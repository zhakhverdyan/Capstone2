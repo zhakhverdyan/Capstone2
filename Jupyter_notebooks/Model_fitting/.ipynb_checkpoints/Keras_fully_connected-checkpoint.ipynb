{
 "cells": [
  {
   "cell_type": "code",
   "execution_count": 1,
   "metadata": {},
   "outputs": [
    {
     "name": "stderr",
     "output_type": "stream",
     "text": [
      "Using TensorFlow backend.\n"
     ]
    }
   ],
   "source": [
    "import numpy as np\n",
    "import pandas as pd\n",
    "\n",
    "from sklearn.model_selection import train_test_split\n",
    "\n",
    "from keras.models import Sequential\n",
    "from keras.models import Model\n",
    "from keras.layers import Input, Dense, Dropout"
   ]
  },
  {
   "cell_type": "code",
   "execution_count": 2,
   "metadata": {},
   "outputs": [],
   "source": [
    "train = pd.read_csv('Data_processed/train_022720.csv')\n",
    "test = pd.read_csv('Data_processed/test_022720.csv')"
   ]
  },
  {
   "cell_type": "code",
   "execution_count": 3,
   "metadata": {},
   "outputs": [
    {
     "data": {
      "text/html": [
       "<div>\n",
       "<style scoped>\n",
       "    .dataframe tbody tr th:only-of-type {\n",
       "        vertical-align: middle;\n",
       "    }\n",
       "\n",
       "    .dataframe tbody tr th {\n",
       "        vertical-align: top;\n",
       "    }\n",
       "\n",
       "    .dataframe thead th {\n",
       "        text-align: right;\n",
       "    }\n",
       "</style>\n",
       "<table border=\"1\" class=\"dataframe\">\n",
       "  <thead>\n",
       "    <tr style=\"text-align: right;\">\n",
       "      <th></th>\n",
       "      <th>Unnamed: 0</th>\n",
       "      <th>0</th>\n",
       "      <th>1</th>\n",
       "      <th>2</th>\n",
       "      <th>3</th>\n",
       "      <th>4</th>\n",
       "      <th>5</th>\n",
       "      <th>6</th>\n",
       "      <th>7</th>\n",
       "      <th>8</th>\n",
       "      <th>...</th>\n",
       "      <th>352</th>\n",
       "      <th>353</th>\n",
       "      <th>354</th>\n",
       "      <th>355</th>\n",
       "      <th>356</th>\n",
       "      <th>357</th>\n",
       "      <th>358</th>\n",
       "      <th>359</th>\n",
       "      <th>Label</th>\n",
       "      <th>Output_label</th>\n",
       "    </tr>\n",
       "  </thead>\n",
       "  <tbody>\n",
       "    <tr>\n",
       "      <th>0</th>\n",
       "      <td>0</td>\n",
       "      <td>-0.295</td>\n",
       "      <td>-0.295</td>\n",
       "      <td>-0.310</td>\n",
       "      <td>-0.320</td>\n",
       "      <td>-0.305</td>\n",
       "      <td>-0.300</td>\n",
       "      <td>-0.295</td>\n",
       "      <td>-0.315</td>\n",
       "      <td>-0.315</td>\n",
       "      <td>...</td>\n",
       "      <td>-0.345</td>\n",
       "      <td>-0.335</td>\n",
       "      <td>-0.330</td>\n",
       "      <td>-0.340</td>\n",
       "      <td>-0.340</td>\n",
       "      <td>-0.350</td>\n",
       "      <td>-0.340</td>\n",
       "      <td>-0.325</td>\n",
       "      <td>N</td>\n",
       "      <td>0.0</td>\n",
       "    </tr>\n",
       "    <tr>\n",
       "      <th>1</th>\n",
       "      <td>1</td>\n",
       "      <td>-0.365</td>\n",
       "      <td>-0.365</td>\n",
       "      <td>-0.345</td>\n",
       "      <td>-0.350</td>\n",
       "      <td>-0.360</td>\n",
       "      <td>-0.360</td>\n",
       "      <td>-0.355</td>\n",
       "      <td>-0.350</td>\n",
       "      <td>-0.345</td>\n",
       "      <td>...</td>\n",
       "      <td>-0.415</td>\n",
       "      <td>-0.430</td>\n",
       "      <td>-0.420</td>\n",
       "      <td>-0.415</td>\n",
       "      <td>-0.410</td>\n",
       "      <td>-0.400</td>\n",
       "      <td>-0.415</td>\n",
       "      <td>-0.415</td>\n",
       "      <td>N</td>\n",
       "      <td>0.0</td>\n",
       "    </tr>\n",
       "    <tr>\n",
       "      <th>2</th>\n",
       "      <td>2</td>\n",
       "      <td>-0.425</td>\n",
       "      <td>-0.425</td>\n",
       "      <td>-0.400</td>\n",
       "      <td>-0.405</td>\n",
       "      <td>-0.415</td>\n",
       "      <td>-0.425</td>\n",
       "      <td>-0.420</td>\n",
       "      <td>-0.420</td>\n",
       "      <td>-0.420</td>\n",
       "      <td>...</td>\n",
       "      <td>-0.340</td>\n",
       "      <td>-0.345</td>\n",
       "      <td>-0.345</td>\n",
       "      <td>-0.340</td>\n",
       "      <td>-0.320</td>\n",
       "      <td>-0.330</td>\n",
       "      <td>-0.340</td>\n",
       "      <td>-0.330</td>\n",
       "      <td>N</td>\n",
       "      <td>0.0</td>\n",
       "    </tr>\n",
       "    <tr>\n",
       "      <th>3</th>\n",
       "      <td>3</td>\n",
       "      <td>-0.330</td>\n",
       "      <td>-0.335</td>\n",
       "      <td>-0.340</td>\n",
       "      <td>-0.355</td>\n",
       "      <td>-0.365</td>\n",
       "      <td>-0.340</td>\n",
       "      <td>-0.330</td>\n",
       "      <td>-0.335</td>\n",
       "      <td>-0.340</td>\n",
       "      <td>...</td>\n",
       "      <td>-0.490</td>\n",
       "      <td>-0.460</td>\n",
       "      <td>-0.445</td>\n",
       "      <td>-0.450</td>\n",
       "      <td>-0.470</td>\n",
       "      <td>-0.485</td>\n",
       "      <td>-0.470</td>\n",
       "      <td>-0.450</td>\n",
       "      <td>N</td>\n",
       "      <td>0.0</td>\n",
       "    </tr>\n",
       "    <tr>\n",
       "      <th>4</th>\n",
       "      <td>4</td>\n",
       "      <td>-0.450</td>\n",
       "      <td>-0.455</td>\n",
       "      <td>-0.465</td>\n",
       "      <td>-0.470</td>\n",
       "      <td>-0.465</td>\n",
       "      <td>-0.440</td>\n",
       "      <td>-0.440</td>\n",
       "      <td>-0.460</td>\n",
       "      <td>-0.465</td>\n",
       "      <td>...</td>\n",
       "      <td>-0.425</td>\n",
       "      <td>-0.415</td>\n",
       "      <td>-0.415</td>\n",
       "      <td>-0.425</td>\n",
       "      <td>-0.415</td>\n",
       "      <td>-0.415</td>\n",
       "      <td>-0.415</td>\n",
       "      <td>-0.400</td>\n",
       "      <td>N</td>\n",
       "      <td>0.0</td>\n",
       "    </tr>\n",
       "  </tbody>\n",
       "</table>\n",
       "<p>5 rows × 363 columns</p>\n",
       "</div>"
      ],
      "text/plain": [
       "   Unnamed: 0      0      1      2      3      4      5      6      7      8  \\\n",
       "0           0 -0.295 -0.295 -0.310 -0.320 -0.305 -0.300 -0.295 -0.315 -0.315   \n",
       "1           1 -0.365 -0.365 -0.345 -0.350 -0.360 -0.360 -0.355 -0.350 -0.345   \n",
       "2           2 -0.425 -0.425 -0.400 -0.405 -0.415 -0.425 -0.420 -0.420 -0.420   \n",
       "3           3 -0.330 -0.335 -0.340 -0.355 -0.365 -0.340 -0.330 -0.335 -0.340   \n",
       "4           4 -0.450 -0.455 -0.465 -0.470 -0.465 -0.440 -0.440 -0.460 -0.465   \n",
       "\n",
       "   ...    352    353    354    355    356    357    358    359  Label  \\\n",
       "0  ... -0.345 -0.335 -0.330 -0.340 -0.340 -0.350 -0.340 -0.325      N   \n",
       "1  ... -0.415 -0.430 -0.420 -0.415 -0.410 -0.400 -0.415 -0.415      N   \n",
       "2  ... -0.340 -0.345 -0.345 -0.340 -0.320 -0.330 -0.340 -0.330      N   \n",
       "3  ... -0.490 -0.460 -0.445 -0.450 -0.470 -0.485 -0.470 -0.450      N   \n",
       "4  ... -0.425 -0.415 -0.415 -0.425 -0.415 -0.415 -0.415 -0.400      N   \n",
       "\n",
       "   Output_label  \n",
       "0           0.0  \n",
       "1           0.0  \n",
       "2           0.0  \n",
       "3           0.0  \n",
       "4           0.0  \n",
       "\n",
       "[5 rows x 363 columns]"
      ]
     },
     "execution_count": 3,
     "metadata": {},
     "output_type": "execute_result"
    }
   ],
   "source": [
    "train.head()"
   ]
  },
  {
   "cell_type": "code",
   "execution_count": 3,
   "metadata": {},
   "outputs": [],
   "source": [
    "x_train = train.drop(columns=['Unnamed: 0','Label', 'Output_label']).values\n",
    "y_train = train.Output_label.values\n",
    "x_test = test.drop(columns=['Unnamed: 0','Label', 'Output_label']).values\n",
    "y_test = test.Output_label.values"
   ]
  },
  {
   "cell_type": "code",
   "execution_count": 4,
   "metadata": {},
   "outputs": [],
   "source": [
    "# let's try model fitting with and without scaling\n",
    "from sklearn.preprocessing import MinMaxScaler\n",
    "scaler = MinMaxScaler()\n",
    "x_train_scaled = scaler.fit_transform(x_train.T).T\n",
    "x_test_scaled = scaler.fit_transform(x_test.T).T"
   ]
  },
  {
   "cell_type": "code",
   "execution_count": 9,
   "metadata": {},
   "outputs": [],
   "source": [
    "# build the model\n",
    "model = Sequential()\n",
    "model.add(Dense(32, activation = 'relu', input_dim = x_train.shape[1]))\n",
    "model.add(Dropout(rate = 0.25))\n",
    "model.add(Dense(1, activation = 'sigmoid'))"
   ]
  },
  {
   "cell_type": "code",
   "execution_count": 10,
   "metadata": {},
   "outputs": [],
   "source": [
    "#compile the model, use categorical cross entropy and Adam optimizer\n",
    "model.compile(loss = 'binary_crossentropy',\n",
    "             optimizer = 'adam',\n",
    "             metrics = ['accuracy'])"
   ]
  },
  {
   "cell_type": "code",
   "execution_count": 11,
   "metadata": {},
   "outputs": [],
   "source": [
    "model.save_weights('models/fully_connected_untrained.h5')"
   ]
  },
  {
   "cell_type": "code",
   "execution_count": 19,
   "metadata": {},
   "outputs": [],
   "source": [
    "model.load_weights('models/fully_connected_untrained.h5')"
   ]
  },
  {
   "cell_type": "code",
   "execution_count": 20,
   "metadata": {},
   "outputs": [
    {
     "name": "stdout",
     "output_type": "stream",
     "text": [
      "Train on 38119 samples, validate on 16338 samples\n",
      "Epoch 1/10\n",
      "38119/38119 [==============================] - 6s 160us/step - loss: 0.1468 - accuracy: 0.9502 - val_loss: 0.1890 - val_accuracy: 0.9202\n",
      "Epoch 2/10\n",
      "38119/38119 [==============================] - 8s 213us/step - loss: 0.0841 - accuracy: 0.9759 - val_loss: 0.1461 - val_accuracy: 0.9378\n",
      "Epoch 3/10\n",
      "38119/38119 [==============================] - 20s 522us/step - loss: 0.0668 - accuracy: 0.9810 - val_loss: 0.1854 - val_accuracy: 0.9222\n",
      "Epoch 4/10\n",
      "38119/38119 [==============================] - 8s 217us/step - loss: 0.0640 - accuracy: 0.9828 - val_loss: 0.1748 - val_accuracy: 0.9223\n",
      "Epoch 5/10\n",
      "38119/38119 [==============================] - 7s 187us/step - loss: 0.0627 - accuracy: 0.9840 - val_loss: 0.2395 - val_accuracy: 0.8834\n",
      "Epoch 6/10\n",
      "38119/38119 [==============================] - 7s 173us/step - loss: 0.0589 - accuracy: 0.9843 - val_loss: 0.2363 - val_accuracy: 0.8841\n",
      "Epoch 7/10\n",
      "38119/38119 [==============================] - 6s 165us/step - loss: 0.0544 - accuracy: 0.9854 - val_loss: 0.2153 - val_accuracy: 0.8890\n",
      "Epoch 8/10\n",
      "38119/38119 [==============================] - 7s 173us/step - loss: 0.0517 - accuracy: 0.9865 - val_loss: 0.2468 - val_accuracy: 0.8792\n",
      "Epoch 9/10\n",
      "38119/38119 [==============================] - 7s 174us/step - loss: 0.0502 - accuracy: 0.9872 - val_loss: 0.2631 - val_accuracy: 0.8811\n",
      "Epoch 10/10\n",
      "38119/38119 [==============================] - 6s 166us/step - loss: 0.0513 - accuracy: 0.9873 - val_loss: 0.2464 - val_accuracy: 0.8817\n"
     ]
    }
   ],
   "source": [
    "history = model.fit(x_train, y_train, validation_split=0.3,shuffle=True, batch_size=32, epochs = 10, verbose=1)"
   ]
  },
  {
   "cell_type": "code",
   "execution_count": 21,
   "metadata": {},
   "outputs": [
    {
     "name": "stdout",
     "output_type": "stream",
     "text": [
      "54749/54749 [==============================] - 4s 74us/step\n"
     ]
    },
    {
     "data": {
      "text/plain": [
       "[0.5256801392655155, 0.8521799445152283]"
      ]
     },
     "execution_count": 21,
     "metadata": {},
     "output_type": "execute_result"
    }
   ],
   "source": [
    "model.evaluate(x=x_test, y=y_test, batch_size=32, verbose=1)"
   ]
  },
  {
   "cell_type": "code",
   "execution_count": 22,
   "metadata": {},
   "outputs": [],
   "source": [
    "model.save_weights('models/fully_connected_trained_raw_data.h5')"
   ]
  },
  {
   "cell_type": "code",
   "execution_count": 23,
   "metadata": {},
   "outputs": [],
   "source": [
    "model.load_weights('models/fully_connected_untrained.h5')"
   ]
  },
  {
   "cell_type": "code",
   "execution_count": null,
   "metadata": {},
   "outputs": [
    {
     "name": "stdout",
     "output_type": "stream",
     "text": [
      "Train on 38119 samples, validate on 16338 samples\n",
      "Epoch 1/10\n",
      "38119/38119 [==============================] - 6s 164us/step - loss: 0.2403 - accuracy: 0.9037 - val_loss: 0.3288 - val_accuracy: 0.8236\n",
      "Epoch 2/10\n",
      "38119/38119 [==============================] - 6s 153us/step - loss: 0.1005 - accuracy: 0.9680 - val_loss: 0.2291 - val_accuracy: 0.9050\n",
      "Epoch 3/10\n",
      "38119/38119 [==============================] - 6s 151us/step - loss: 0.0780 - accuracy: 0.9755 - val_loss: 0.1438 - val_accuracy: 0.9623\n",
      "Epoch 4/10\n",
      "38119/38119 [==============================] - 6s 154us/step - loss: 0.0687 - accuracy: 0.9773 - val_loss: 0.1568 - val_accuracy: 0.9602\n",
      "Epoch 5/10\n",
      "38119/38119 [==============================] - 6s 167us/step - loss: 0.0632 - accuracy: 0.9799 - val_loss: 0.1911 - val_accuracy: 0.9201\n",
      "Epoch 6/10\n",
      "38119/38119 [==============================] - 6s 157us/step - loss: 0.0587 - accuracy: 0.9808 - val_loss: 0.1622 - val_accuracy: 0.9442\n",
      "Epoch 7/10\n",
      "38119/38119 [==============================] - 6s 155us/step - loss: 0.0557 - accuracy: 0.9821 - val_loss: 0.0851 - val_accuracy: 0.9788\n",
      "Epoch 8/10\n",
      "38119/38119 [==============================] - 7s 172us/step - loss: 0.0530 - accuracy: 0.9831 - val_loss: 0.0835 - val_accuracy: 0.9825\n",
      "Epoch 9/10\n",
      "38119/38119 [==============================] - 6s 161us/step - loss: 0.0528 - accuracy: 0.9832 - val_loss: 0.1026 - val_accuracy: 0.9696\n",
      "Epoch 10/10\n",
      "36512/38119 [===========================>..] - ETA: 0s - loss: 0.0512 - accuracy: 0.9832"
     ]
    }
   ],
   "source": [
    "history_scaled = model.fit(x_train_scaled, y_train, validation_split=0.3,shuffle=True, batch_size=32, epochs = 10, verbose=1)"
   ]
  },
  {
   "cell_type": "code",
   "execution_count": 17,
   "metadata": {},
   "outputs": [
    {
     "name": "stdout",
     "output_type": "stream",
     "text": [
      "54749/54749 [==============================] - 3s 52us/step\n"
     ]
    },
    {
     "data": {
      "text/plain": [
       "[0.4601157312105307, 0.8177683353424072]"
      ]
     },
     "execution_count": 17,
     "metadata": {},
     "output_type": "execute_result"
    }
   ],
   "source": [
    "model.evaluate(x=x_test_scaled, y=y_test, batch_size=32, verbose=1)"
   ]
  },
  {
   "cell_type": "code",
   "execution_count": 18,
   "metadata": {},
   "outputs": [
    {
     "name": "stdout",
     "output_type": "stream",
     "text": [
      "dict_keys(['val_loss', 'val_accuracy', 'loss', 'accuracy'])\n",
      "dict_keys(['val_loss', 'val_accuracy', 'loss', 'accuracy'])\n"
     ]
    },
    {
     "data": {
      "image/png": "[encoded data removed]",
      "text/plain": [
       "<Figure size 432x288 with 1 Axes>"
      ]
     },
     "metadata": {
      "needs_background": "light"
     },
     "output_type": "display_data"
    },
    {
     "data": {
      "image/png": "[encoded data removed]",
      "text/plain": [
       "<Figure size 432x288 with 1 Axes>"
      ]
     },
     "metadata": {
      "needs_background": "light"
     },
     "output_type": "display_data"
    }
   ],
   "source": [
    "import matplotlib.pyplot as plt\n",
    "# list all data in history\n",
    "print(history.history.keys())\n",
    "print(history_scaled.history.keys())\n",
    "# summarize history for accuracy\n",
    "plt.plot(history.history['accuracy'])\n",
    "plt.plot(history_scaled.history['accuracy'])\n",
    "plt.plot(history.history['val_accuracy'])\n",
    "plt.plot(history_scaled.history['val_accuracy'])\n",
    "plt.title('model accuracy')\n",
    "plt.ylabel('accuracy')\n",
    "plt.xlabel('epoch')\n",
    "plt.legend(['train', 'train_scaled', 'validation', 'validation_scaled'], loc='upper left')\n",
    "plt.show()\n",
    "# summarize history for loss\n",
    "plt.plot(history.history['loss'])\n",
    "plt.plot(history_scaled.history['loss'])\n",
    "plt.plot(history.history['val_loss'])\n",
    "plt.plot(history_scaled.history['val_loss'])\n",
    "plt.title('model loss')\n",
    "plt.ylabel('loss')\n",
    "plt.xlabel('epoch')\n",
    "plt.legend(['train', 'train_scaled', 'validation', 'validation_scaled'], loc='upper left')\n",
    "plt.show()"
   ]
  },
  {
   "cell_type": "code",
   "execution_count": null,
   "metadata": {},
   "outputs": [],
   "source": [
    "train_scaled_filt = ._csv('../../Data_processed/train_scaled_030520.csv')\n",
    "test_scaled_filt.to_csv('../../Data_processed/test_scaled_030520.csv')"
   ]
  }
 ],
 "metadata": {
  "kernelspec": {
   "display_name": "Python 3",
   "language": "python",
   "name": "python3"
  },
  "language_info": {
   "codemirror_mode": {
    "name": "ipython",
    "version": 3
   },
   "file_extension": ".py",
   "mimetype": "text/x-python",
   "name": "python",
   "nbconvert_exporter": "python",
   "pygments_lexer": "ipython3",
   "version": "3.7.3"
  }
 },
 "nbformat": 4,
 "nbformat_minor": 2
}
