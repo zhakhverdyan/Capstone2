{
 "cells": [
  {
   "cell_type": "code",
   "execution_count": null,
   "metadata": {},
   "outputs": [],
   "source": [
    "## Purpose of the notebook\n",
    "1. reduce the number of features with PCA to 20\n",
    "2. split the data on train-val-test sets\n",
    "3. prepare the data and parameters for gradient boosting classifier fitting\n",
    "4. tune parameters on validation data\n",
    "5. test the best model on the test data"
   ]
  },
  {
   "cell_type": "code",
   "execution_count": 1,
   "metadata": {},
   "outputs": [
    {
     "data": {
      "text/html": [
       "<div>\n",
       "<style scoped>\n",
       "    .dataframe tbody tr th:only-of-type {\n",
       "        vertical-align: middle;\n",
       "    }\n",
       "\n",
       "    .dataframe tbody tr th {\n",
       "        vertical-align: top;\n",
       "    }\n",
       "\n",
       "    .dataframe thead th {\n",
       "        text-align: right;\n",
       "    }\n",
       "</style>\n",
       "<table border=\"1\" class=\"dataframe\">\n",
       "  <thead>\n",
       "    <tr style=\"text-align: right;\">\n",
       "      <th></th>\n",
       "      <th>Unnamed: 0</th>\n",
       "      <th>0</th>\n",
       "      <th>1</th>\n",
       "      <th>2</th>\n",
       "      <th>3</th>\n",
       "      <th>4</th>\n",
       "      <th>5</th>\n",
       "      <th>6</th>\n",
       "      <th>7</th>\n",
       "      <th>8</th>\n",
       "      <th>...</th>\n",
       "      <th>354</th>\n",
       "      <th>355</th>\n",
       "      <th>356</th>\n",
       "      <th>357</th>\n",
       "      <th>358</th>\n",
       "      <th>359</th>\n",
       "      <th>Patient_number</th>\n",
       "      <th>Label</th>\n",
       "      <th>Label_class</th>\n",
       "      <th>Output_label</th>\n",
       "    </tr>\n",
       "  </thead>\n",
       "  <tbody>\n",
       "    <tr>\n",
       "      <th>0</th>\n",
       "      <td>0</td>\n",
       "      <td>0.000</td>\n",
       "      <td>0.000</td>\n",
       "      <td>0.000</td>\n",
       "      <td>0.000</td>\n",
       "      <td>0.000</td>\n",
       "      <td>0.000</td>\n",
       "      <td>0.000</td>\n",
       "      <td>0.000</td>\n",
       "      <td>0.000</td>\n",
       "      <td>...</td>\n",
       "      <td>-0.010</td>\n",
       "      <td>-0.010</td>\n",
       "      <td>0.000</td>\n",
       "      <td>0.005</td>\n",
       "      <td>0.005</td>\n",
       "      <td>0.015</td>\n",
       "      <td>100</td>\n",
       "      <td>N</td>\n",
       "      <td>N</td>\n",
       "      <td>0.0</td>\n",
       "    </tr>\n",
       "    <tr>\n",
       "      <th>1</th>\n",
       "      <td>1</td>\n",
       "      <td>0.005</td>\n",
       "      <td>-0.025</td>\n",
       "      <td>-0.015</td>\n",
       "      <td>0.000</td>\n",
       "      <td>-0.010</td>\n",
       "      <td>0.005</td>\n",
       "      <td>-0.005</td>\n",
       "      <td>-0.005</td>\n",
       "      <td>-0.010</td>\n",
       "      <td>...</td>\n",
       "      <td>0.000</td>\n",
       "      <td>0.000</td>\n",
       "      <td>-0.025</td>\n",
       "      <td>0.010</td>\n",
       "      <td>0.005</td>\n",
       "      <td>0.005</td>\n",
       "      <td>100</td>\n",
       "      <td>N</td>\n",
       "      <td>N</td>\n",
       "      <td>0.0</td>\n",
       "    </tr>\n",
       "    <tr>\n",
       "      <th>2</th>\n",
       "      <td>2</td>\n",
       "      <td>-0.005</td>\n",
       "      <td>-0.005</td>\n",
       "      <td>0.005</td>\n",
       "      <td>-0.025</td>\n",
       "      <td>-0.015</td>\n",
       "      <td>-0.010</td>\n",
       "      <td>0.005</td>\n",
       "      <td>0.010</td>\n",
       "      <td>0.000</td>\n",
       "      <td>...</td>\n",
       "      <td>-0.005</td>\n",
       "      <td>0.005</td>\n",
       "      <td>0.015</td>\n",
       "      <td>-0.010</td>\n",
       "      <td>-0.005</td>\n",
       "      <td>-0.015</td>\n",
       "      <td>100</td>\n",
       "      <td>N</td>\n",
       "      <td>N</td>\n",
       "      <td>0.0</td>\n",
       "    </tr>\n",
       "    <tr>\n",
       "      <th>3</th>\n",
       "      <td>3</td>\n",
       "      <td>-0.015</td>\n",
       "      <td>-0.015</td>\n",
       "      <td>-0.020</td>\n",
       "      <td>-0.005</td>\n",
       "      <td>-0.005</td>\n",
       "      <td>0.005</td>\n",
       "      <td>0.000</td>\n",
       "      <td>-0.010</td>\n",
       "      <td>-0.005</td>\n",
       "      <td>...</td>\n",
       "      <td>0.005</td>\n",
       "      <td>-0.005</td>\n",
       "      <td>-0.015</td>\n",
       "      <td>0.020</td>\n",
       "      <td>0.000</td>\n",
       "      <td>0.010</td>\n",
       "      <td>100</td>\n",
       "      <td>N</td>\n",
       "      <td>N</td>\n",
       "      <td>0.0</td>\n",
       "    </tr>\n",
       "    <tr>\n",
       "      <th>4</th>\n",
       "      <td>4</td>\n",
       "      <td>-0.005</td>\n",
       "      <td>0.005</td>\n",
       "      <td>0.005</td>\n",
       "      <td>-0.010</td>\n",
       "      <td>-0.020</td>\n",
       "      <td>-0.010</td>\n",
       "      <td>0.015</td>\n",
       "      <td>-0.005</td>\n",
       "      <td>-0.010</td>\n",
       "      <td>...</td>\n",
       "      <td>0.010</td>\n",
       "      <td>0.010</td>\n",
       "      <td>0.020</td>\n",
       "      <td>-0.010</td>\n",
       "      <td>-0.005</td>\n",
       "      <td>-0.005</td>\n",
       "      <td>100</td>\n",
       "      <td>N</td>\n",
       "      <td>N</td>\n",
       "      <td>0.0</td>\n",
       "    </tr>\n",
       "  </tbody>\n",
       "</table>\n",
       "<p>5 rows × 365 columns</p>\n",
       "</div>"
      ],
      "text/plain": [
       "   Unnamed: 0      0      1      2      3      4      5      6      7      8  \\\n",
       "0           0  0.000  0.000  0.000  0.000  0.000  0.000  0.000  0.000  0.000   \n",
       "1           1  0.005 -0.025 -0.015  0.000 -0.010  0.005 -0.005 -0.005 -0.010   \n",
       "2           2 -0.005 -0.005  0.005 -0.025 -0.015 -0.010  0.005  0.010  0.000   \n",
       "3           3 -0.015 -0.015 -0.020 -0.005 -0.005  0.005  0.000 -0.010 -0.005   \n",
       "4           4 -0.005  0.005  0.005 -0.010 -0.020 -0.010  0.015 -0.005 -0.010   \n",
       "\n",
       "   ...    354    355    356    357    358    359  Patient_number  Label  \\\n",
       "0  ... -0.010 -0.010  0.000  0.005  0.005  0.015             100      N   \n",
       "1  ...  0.000  0.000 -0.025  0.010  0.005  0.005             100      N   \n",
       "2  ... -0.005  0.005  0.015 -0.010 -0.005 -0.015             100      N   \n",
       "3  ...  0.005 -0.005 -0.015  0.020  0.000  0.010             100      N   \n",
       "4  ...  0.010  0.010  0.020 -0.010 -0.005 -0.005             100      N   \n",
       "\n",
       "   Label_class  Output_label  \n",
       "0            N           0.0  \n",
       "1            N           0.0  \n",
       "2            N           0.0  \n",
       "3            N           0.0  \n",
       "4            N           0.0  \n",
       "\n",
       "[5 rows x 365 columns]"
      ]
     },
     "execution_count": 1,
     "metadata": {},
     "output_type": "execute_result"
    }
   ],
   "source": [
    "import pandas as pd\n",
    "df = pd.read_csv('../../Data_processed/dif_abs_value_full_040720.csv')\n",
    "df.head()"
   ]
  },
  {
   "cell_type": "markdown",
   "metadata": {},
   "source": [
    "### 1. Perform feature reduction with PCA"
   ]
  },
  {
   "cell_type": "code",
   "execution_count": 2,
   "metadata": {
    "scrolled": true
   },
   "outputs": [
    {
     "data": {
      "image/png": "[encoded data removed]",
      "text/plain": [
       "<Figure size 432x288 with 1 Axes>"
      ]
     },
     "metadata": {
      "needs_background": "light"
     },
     "output_type": "display_data"
    }
   ],
   "source": [
    "import matplotlib.pyplot as plt\n",
    "from sklearn.decomposition import PCA\n",
    "import numpy as np\n",
    "X = df.drop(columns = ['Unnamed: 0', 'Patient_number', 'Label', 'Label_class', 'Output_label'], axis=1)\n",
    "y = df['Output_label']\n",
    "target_names = ['N', 'S', 'V', 'F']\n",
    "pca = PCA(n_components=20)\n",
    "X_r = pca.fit(X).transform(X)\n",
    "plt.bar(list(range(1,21)), pca.explained_variance_ratio_)\n",
    "plt.xlabel('Principal components')\n",
    "plt.ylabel('Explained variance')\n",
    "explained_var = np.sum(pca.explained_variance_ratio_)\n",
    "title = \"Explained variance of the first 20 principal components: {}\".format(round(explained_var,3))\n",
    "plt.title(title)\n",
    "plt.show()"
   ]
  },
  {
   "cell_type": "markdown",
   "metadata": {},
   "source": [
    "### 2. split the data on train-val-test sets"
   ]
  },
  {
   "cell_type": "code",
   "execution_count": 3,
   "metadata": {},
   "outputs": [],
   "source": [
    "train = [101, 103, 105, 106, 109, 111, 112, 113, 115, 116, 117, 119, 121, 122, 123,\\\n",
    "         200, 201, 202, 205, 207, 208, 209, 212, 219, 221, 222, 230, 231, 232, 233]\n",
    "    \n",
    "val = [100, 124, 215, 223]\n",
    "\n",
    "test = [108, 114, 118, 203, 210, 213, 214, 220, 228, 234]"
   ]
  },
  {
   "cell_type": "code",
   "execution_count": 4,
   "metadata": {},
   "outputs": [
    {
     "data": {
      "text/html": [
       "<div>\n",
       "<style scoped>\n",
       "    .dataframe tbody tr th:only-of-type {\n",
       "        vertical-align: middle;\n",
       "    }\n",
       "\n",
       "    .dataframe tbody tr th {\n",
       "        vertical-align: top;\n",
       "    }\n",
       "\n",
       "    .dataframe thead th {\n",
       "        text-align: right;\n",
       "    }\n",
       "</style>\n",
       "<table border=\"1\" class=\"dataframe\">\n",
       "  <thead>\n",
       "    <tr style=\"text-align: right;\">\n",
       "      <th></th>\n",
       "      <th>0</th>\n",
       "      <th>1</th>\n",
       "      <th>2</th>\n",
       "      <th>3</th>\n",
       "      <th>4</th>\n",
       "      <th>5</th>\n",
       "      <th>6</th>\n",
       "      <th>7</th>\n",
       "      <th>8</th>\n",
       "      <th>9</th>\n",
       "      <th>10</th>\n",
       "      <th>11</th>\n",
       "      <th>12</th>\n",
       "      <th>13</th>\n",
       "      <th>14</th>\n",
       "      <th>15</th>\n",
       "      <th>16</th>\n",
       "      <th>17</th>\n",
       "      <th>18</th>\n",
       "      <th>19</th>\n",
       "    </tr>\n",
       "  </thead>\n",
       "  <tbody>\n",
       "    <tr>\n",
       "      <th>0</th>\n",
       "      <td>0.050786</td>\n",
       "      <td>0.391651</td>\n",
       "      <td>-0.178485</td>\n",
       "      <td>0.306758</td>\n",
       "      <td>-0.240656</td>\n",
       "      <td>0.143067</td>\n",
       "      <td>0.081154</td>\n",
       "      <td>0.022355</td>\n",
       "      <td>-0.011420</td>\n",
       "      <td>0.015371</td>\n",
       "      <td>-0.081245</td>\n",
       "      <td>0.089815</td>\n",
       "      <td>0.029244</td>\n",
       "      <td>0.027875</td>\n",
       "      <td>0.002381</td>\n",
       "      <td>-0.043368</td>\n",
       "      <td>-0.033244</td>\n",
       "      <td>-0.034998</td>\n",
       "      <td>0.014787</td>\n",
       "      <td>-0.044638</td>\n",
       "    </tr>\n",
       "    <tr>\n",
       "      <th>1</th>\n",
       "      <td>0.297323</td>\n",
       "      <td>0.138319</td>\n",
       "      <td>-0.148956</td>\n",
       "      <td>0.190143</td>\n",
       "      <td>-0.087654</td>\n",
       "      <td>0.079699</td>\n",
       "      <td>-0.038270</td>\n",
       "      <td>-0.043619</td>\n",
       "      <td>-0.030912</td>\n",
       "      <td>0.028176</td>\n",
       "      <td>0.024245</td>\n",
       "      <td>-0.037944</td>\n",
       "      <td>0.043730</td>\n",
       "      <td>0.137138</td>\n",
       "      <td>0.048058</td>\n",
       "      <td>0.021714</td>\n",
       "      <td>0.000127</td>\n",
       "      <td>0.032767</td>\n",
       "      <td>-0.026337</td>\n",
       "      <td>0.037962</td>\n",
       "    </tr>\n",
       "    <tr>\n",
       "      <th>2</th>\n",
       "      <td>0.235598</td>\n",
       "      <td>0.441948</td>\n",
       "      <td>-0.274324</td>\n",
       "      <td>0.107976</td>\n",
       "      <td>-0.310303</td>\n",
       "      <td>-0.190474</td>\n",
       "      <td>0.097972</td>\n",
       "      <td>0.196435</td>\n",
       "      <td>0.102748</td>\n",
       "      <td>-0.187137</td>\n",
       "      <td>0.087318</td>\n",
       "      <td>0.037663</td>\n",
       "      <td>-0.007711</td>\n",
       "      <td>-0.048443</td>\n",
       "      <td>-0.008942</td>\n",
       "      <td>0.046931</td>\n",
       "      <td>0.015861</td>\n",
       "      <td>0.042912</td>\n",
       "      <td>-0.038701</td>\n",
       "      <td>0.044276</td>\n",
       "    </tr>\n",
       "    <tr>\n",
       "      <th>3</th>\n",
       "      <td>0.227483</td>\n",
       "      <td>0.463418</td>\n",
       "      <td>-0.216962</td>\n",
       "      <td>0.109937</td>\n",
       "      <td>-0.246306</td>\n",
       "      <td>-0.145597</td>\n",
       "      <td>0.037086</td>\n",
       "      <td>0.182033</td>\n",
       "      <td>0.067624</td>\n",
       "      <td>-0.214044</td>\n",
       "      <td>0.087904</td>\n",
       "      <td>0.077078</td>\n",
       "      <td>-0.019540</td>\n",
       "      <td>0.073363</td>\n",
       "      <td>-0.026969</td>\n",
       "      <td>-0.036818</td>\n",
       "      <td>-0.002272</td>\n",
       "      <td>0.083219</td>\n",
       "      <td>0.039433</td>\n",
       "      <td>0.008428</td>\n",
       "    </tr>\n",
       "    <tr>\n",
       "      <th>4</th>\n",
       "      <td>0.063840</td>\n",
       "      <td>0.491614</td>\n",
       "      <td>-0.152614</td>\n",
       "      <td>0.211571</td>\n",
       "      <td>-0.335745</td>\n",
       "      <td>0.065443</td>\n",
       "      <td>0.120603</td>\n",
       "      <td>0.094058</td>\n",
       "      <td>0.053514</td>\n",
       "      <td>0.009776</td>\n",
       "      <td>-0.062029</td>\n",
       "      <td>0.190344</td>\n",
       "      <td>-0.069839</td>\n",
       "      <td>-0.128718</td>\n",
       "      <td>-0.034483</td>\n",
       "      <td>0.029278</td>\n",
       "      <td>0.027302</td>\n",
       "      <td>-0.022127</td>\n",
       "      <td>0.027251</td>\n",
       "      <td>-0.091199</td>\n",
       "    </tr>\n",
       "  </tbody>\n",
       "</table>\n",
       "</div>"
      ],
      "text/plain": [
       "          0         1         2         3         4         5         6  \\\n",
       "0  0.050786  0.391651 -0.178485  0.306758 -0.240656  0.143067  0.081154   \n",
       "1  0.297323  0.138319 -0.148956  0.190143 -0.087654  0.079699 -0.038270   \n",
       "2  0.235598  0.441948 -0.274324  0.107976 -0.310303 -0.190474  0.097972   \n",
       "3  0.227483  0.463418 -0.216962  0.109937 -0.246306 -0.145597  0.037086   \n",
       "4  0.063840  0.491614 -0.152614  0.211571 -0.335745  0.065443  0.120603   \n",
       "\n",
       "          7         8         9        10        11        12        13  \\\n",
       "0  0.022355 -0.011420  0.015371 -0.081245  0.089815  0.029244  0.027875   \n",
       "1 -0.043619 -0.030912  0.028176  0.024245 -0.037944  0.043730  0.137138   \n",
       "2  0.196435  0.102748 -0.187137  0.087318  0.037663 -0.007711 -0.048443   \n",
       "3  0.182033  0.067624 -0.214044  0.087904  0.077078 -0.019540  0.073363   \n",
       "4  0.094058  0.053514  0.009776 -0.062029  0.190344 -0.069839 -0.128718   \n",
       "\n",
       "         14        15        16        17        18        19  \n",
       "0  0.002381 -0.043368 -0.033244 -0.034998  0.014787 -0.044638  \n",
       "1  0.048058  0.021714  0.000127  0.032767 -0.026337  0.037962  \n",
       "2 -0.008942  0.046931  0.015861  0.042912 -0.038701  0.044276  \n",
       "3 -0.026969 -0.036818 -0.002272  0.083219  0.039433  0.008428  \n",
       "4 -0.034483  0.029278  0.027302 -0.022127  0.027251 -0.091199  "
      ]
     },
     "execution_count": 4,
     "metadata": {},
     "output_type": "execute_result"
    }
   ],
   "source": [
    "# construct a dataframe from the reduced feature array\n",
    "df_r = pd.DataFrame(X_r)\n",
    "df_r.head()"
   ]
  },
  {
   "cell_type": "code",
   "execution_count": 5,
   "metadata": {},
   "outputs": [
    {
     "data": {
      "text/plain": [
       "(100718, 22)"
      ]
     },
     "execution_count": 5,
     "metadata": {},
     "output_type": "execute_result"
    }
   ],
   "source": [
    "# add the patient number and output label to the dataframe\n",
    "df_r = pd.concat([df_r, df[['Patient_number', 'Output_label']]], axis=1)\n",
    "df_r.values.shape"
   ]
  },
  {
   "cell_type": "code",
   "execution_count": 6,
   "metadata": {},
   "outputs": [],
   "source": [
    "# split the data between train-val-test\n",
    "df_r_train = df_r.loc[df_r['Patient_number'].isin(train)]\n",
    "df_r_val = df_r.loc[df_r['Patient_number'].isin(val)]\n",
    "df_r_test = df_r.loc[df_r['Patient_number'].isin(test)]"
   ]
  },
  {
   "cell_type": "markdown",
   "metadata": {},
   "source": [
    "### 3. prepare the data and parameters for gradient boosting classifier fitting"
   ]
  },
  {
   "cell_type": "code",
   "execution_count": 10,
   "metadata": {},
   "outputs": [
    {
     "name": "stdout",
     "output_type": "stream",
     "text": [
      "Training data:\n",
      "X (66947, 20)\n",
      "y (66947,)\n",
      "Validation data:\n",
      "X (9860, 20)\n",
      "y (9860,)\n",
      "Testing data:\n",
      "X (23911, 20)\n",
      "y (23911,)\n"
     ]
    }
   ],
   "source": [
    "# get all the samples as a numpy array\n",
    "x_train = df_r_train.drop(['Patient_number', 'Output_label'], axis=1).values\n",
    "x_val = df_r_val.drop(['Patient_number', 'Output_label'], axis=1).values\n",
    "x_test = df_r_test.drop(['Patient_number', 'Output_label'], axis=1).values\n",
    "\n",
    "# for multilabel classification the label vector needs to be one-hot encoded\n",
    "y_train = df_r_train.Output_label\n",
    "y_val = df_r_val.Output_label\n",
    "y_test = ### 3. prepare the data and parameters for random forest classifier fittingdf_r_test.Output_label\n",
    "\n",
    "# inspect resulting array sizes\n",
    "print(\"Training data:\")\n",
    "print(\"X\", x_train.shape)\n",
    "print(\"y\", y_train.shape)\n",
    "print(\"Validation data:\")\n",
    "print(\"X\", x_val.shape)\n",
    "print(\"y\", y_val.shape)\n",
    "print(\"Testing data:\")\n",
    "print(\"X\", x_test.shape)\n",
    "print(\"y\", y_test.shape)"
   ]
  },
  {
   "cell_type": "code",
   "execution_count": 17,
   "metadata": {},
   "outputs": [],
   "source": [
    "# function for score evaluation - f1 score (without class N) \n",
    "epsilon = np.finfo(float).eps\n",
    "def f1_metric(cm):\n",
    "    true_positives = np.sum(np.diag(cm[1:,1:]))\n",
    "    possible_positives = np.sum(cm[1:,:])\n",
    "    predicted_positives = np.sum(cm[:,1:])\n",
    "    precision = true_positives/(predicted_positives+epsilon)\n",
    "    recall = true_positives/(possible_positives+epsilon)\n",
    "    f1_val = 2*(precision*recall)/(precision+recall+epsilon)\n",
    "    return f1_val"
   ]
  },
  {
   "cell_type": "markdown",
   "metadata": {},
   "source": [
    "### 4. tune parameters on validation data"
   ]
  },
  {
   "cell_type": "code",
   "execution_count": 12,
   "metadata": {},
   "outputs": [],
   "source": [
    "from sklearn.metrics import confusion_matrix"
   ]
  },
  {
   "cell_type": "code",
   "execution_count": null,
   "metadata": {},
   "outputs": [],
   "source": [
    "from sklearn.ensemble import GradientBoostingClassifier\n",
    "from sklearn.metrics import confusion_matrix\n",
    "random_state=2020\n",
    "\n",
    "n_estimators=[25, 50, 100, 200]\n",
    "max_depth=[1, 3, 9, 27]\n",
    "f1_scores_train = []\n",
    "f1_scores_val = []\n",
    "for n in n_estimators:\n",
    "    for m in max_depth:\n",
    "        print(\"Traning classifier with n_estimators {} and max_depth {}.\".format(n,m))\n",
    "        clf = GradientBoostingClassifier(random_state=random_state, n_estimators=n, max_depth=m)\n",
    "        # train the model and save for later\n",
    "        clf.fit(x_train, y_train)\n",
    "\n",
    "        # predict classes for samples in train and test\n",
    "        y_pred_train = clf.predict(x_train)\n",
    "        y_pred_val = clf.predict(x_val)\n",
    "\n",
    "        # compute the confusion matrix for train and test data\n",
    "        cm_train = confusion_matrix(y_train, y_pred_train)\n",
    "        f1_score_train = f1_metric(cm_train)\n",
    "        f1_scores_train.append(f1_score_train)\n",
    "        cm_val = confusion_matrix(y_val, y_pred_val)\n",
    "        print(cm_val)\n",
    "        f1_score_val = f1_metric(cm_val)\n",
    "        f1_scores_val.append(f1_score_val)"
   ]
  },
  {
   "cell_type": "code",
   "execution_count": 27,
   "metadata": {},
   "outputs": [
    {
     "data": {
      "text/plain": [
       "Text(0.5, 1.0, 'Train and validation data scores')"
      ]
     },
     "execution_count": 27,
     "metadata": {},
     "output_type": "execute_result"
    },
    {
     "data": {
      "image/png": "[encoded data removed]",
      "text/plain": [
       "<Figure size 432x288 with 1 Axes>"
      ]
     },
     "metadata": {
      "needs_background": "light"
     },
     "output_type": "display_data"
    }
   ],
   "source": [
    "import matplotlib.pyplot as plt\n",
    "plt.plot(f1_scores_train, c='b', label='Train')\n",
    "plt.plot(f1_scores_val, c='r', label='Validation')\n",
    "plt.legend()\n",
    "plt.xlabel(\"Models\")\n",
    "plt.ylabel(\"F1 score\")\n",
    "plt.title(\"Train and validation data scores\")"
   ]
  },
  {
   "cell_type": "code",
   "execution_count": 31,
   "metadata": {},
   "outputs": [
    {
     "data": {
      "text/plain": [
       "12"
      ]
     },
     "execution_count": 31,
     "metadata": {},
     "output_type": "execute_result"
    }
   ],
   "source": [
    "f1_scores_val.index(max(f1_scores_val))"
   ]
  },
  {
   "cell_type": "markdown",
   "metadata": {},
   "source": [
    "index 12 corresponds to n_estimators 200 and max_depth 1"
   ]
  },
  {
   "cell_type": "code",
   "execution_count": 32,
   "metadata": {},
   "outputs": [
    {
     "data": {
      "text/plain": [
       "[0.007042253521126756,\n",
       " 0.1436377829820452,\n",
       " 0.2719999999999999,\n",
       " 0.22490347490347476,\n",
       " 0.13121693121693118,\n",
       " 0.17299824663939206,\n",
       " 0.2841015992474129,\n",
       " 0.25690486628671627,\n",
       " 0.2536924413553431,\n",
       " 0.21610805402701339,\n",
       " 0.2825983878615457,\n",
       " 0.25372498935717314,\n",
       " 0.289820359281437,\n",
       " 0.25751458052938525,\n",
       " 0.28260869565217384,\n",
       " 0.25372498935717314]"
      ]
     },
     "execution_count": 32,
     "metadata": {},
     "output_type": "execute_result"
    }
   ],
   "source": [
    "f1_scores_val"
   ]
  },
  {
   "cell_type": "code",
   "execution_count": 37,
   "metadata": {},
   "outputs": [
    {
     "data": {
      "text/plain": [
       "Text(0.5, 1.0, 'Train and validation data scores')"
      ]
     },
     "execution_count": 37,
     "metadata": {},
     "output_type": "execute_result"
    },
    {
     "data": {
      "image/png": "[encoded data removed]",
      "text/plain": [
       "<Figure size 432x288 with 1 Axes>"
      ]
     },
     "metadata": {
      "needs_background": "light"
     },
     "output_type": "display_data"
    }
   ],
   "source": [
    "plt.plot(n_estimators, f1_scores_train[0:16:4], c='b', label='Train')\n",
    "plt.plot(n_estimators, f1_scores_val[0:16:4], c='r', label='Validation')\n",
    "plt.legend()\n",
    "plt.xlabel(\"n_estimators with max_depth=1\")\n",
    "plt.ylabel(\"F1 score\")\n",
    "plt.title(\"Train and validation data scores\")"
   ]
  },
  {
   "cell_type": "code",
   "execution_count": 46,
   "metadata": {},
   "outputs": [
    {
     "data": {
      "text/plain": [
       "Text(0.5, 1.0, 'Train and validation data scores with max_depth=3')"
      ]
     },
     "execution_count": 46,
     "metadata": {},
     "output_type": "execute_result"
    },
    {
     "data": {
      "image/png": "[encoded data removed]",
      "text/plain": [
       "<Figure size 432x288 with 1 Axes>"
      ]
     },
     "metadata": {
      "needs_background": "light"
     },
     "output_type": "display_data"
    }
   ],
   "source": [
    "plt.plot([25, 50, 100, 200], f1_scores_train[1:16:4], c='b', label='Train')\n",
    "plt.plot([25, 50, 100, 200], f1_scores_val[1:16:4], c='r', label='Validation')\n",
    "plt.legend()\n",
    "plt.xlabel(\"n_estimators\")\n",
    "plt.ylabel(\"F1 score\")\n",
    "plt.title(\"Train and validation data scores with max_depth=3\")"
   ]
  },
  {
   "cell_type": "code",
   "execution_count": 51,
   "metadata": {},
   "outputs": [
    {
     "data": {
      "text/plain": [
       "Text(0.5, 1.0, 'Train and validation data scores')"
      ]
     },
     "execution_count": 51,
     "metadata": {},
     "output_type": "execute_result"
    },
    {
     "data": {
      "image/png": "[encoded data removed]",
      "text/plain": [
       "<Figure size 432x288 with 1 Axes>"
      ]
     },
     "metadata": {
      "needs_background": "light"
     },
     "output_type": "display_data"
    }
   ],
   "source": [
    "plt.plot([1, 3, 9, 27], f1_scores_train[0:4], c='SkyBlue', label='Train, n_est=25')\n",
    "plt.plot([1, 3, 9, 27], f1_scores_train[4:8], c='RoyalBlue', label='Train, n_est=50')\n",
    "plt.plot([1, 3, 9, 27], f1_scores_train[8:12], c='MediumBlue', label='Train, n_est=100')\n",
    "plt.plot([1, 3, 9, 27], f1_scores_train[12:16], c='DarkBlue', label='Train, n_est=200')\n",
    "\n",
    "plt.plot([1, 3, 9, 27], f1_scores_val[0:4], c='Salmon', label='Val, n_est=25')\n",
    "plt.plot([1, 3, 9, 27], f1_scores_val[4:8], c='Red', label='Val, n_est=50')\n",
    "plt.plot([1, 3, 9, 27], f1_scores_val[8:12], c='FireBrick', label='Val, n_est=100')\n",
    "plt.plot([1, 3, 9, 27], f1_scores_val[12:16], c='DarkRed', label='Val, n_est=200')\n",
    "\n",
    "plt.legend()\n",
    "plt.xlabel(\"max_depth\")\n",
    "plt.ylabel(\"F1 score\")\n",
    "plt.title(\"Train and validation data scores\")"
   ]
  },
  {
   "cell_type": "markdown",
   "metadata": {},
   "source": [
    "### Interpretation\n",
    "n_estimator size doesn't matter at max_depth>10. 25 and 50 estimators perform poorly for the val set (for max_depth<10), while 100 and 200 have similar performance, with 200 outperforming 100 n_estimators. Next try varying max_depth parameter slowly between 1 and 10  with n_estimators=200."
   ]
  },
  {
   "cell_type": "code",
   "execution_count": 68,
   "metadata": {},
   "outputs": [
    {
     "name": "stdout",
     "output_type": "stream",
     "text": [
      "Traning classifier with n_estimators 200 and max_depth 1.\n",
      "[[8443  353  219    0]\n",
      " [ 137    1    2    0]\n",
      " [ 438    2  241    4]\n",
      " [  17    0    3    0]]\n",
      "Traning classifier with n_estimators 200 and max_depth 2.\n",
      "[[7983  695  335    2]\n",
      " [ 133    3    4    0]\n",
      " [ 392    5  286    2]\n",
      " [  13    0    7    0]]\n",
      "Traning classifier with n_estimators 200 and max_depth 3.\n",
      "[[7941  732  327   15]\n",
      " [ 138    1    0    1]\n",
      " [ 384   12  286    3]\n",
      " [  13    0    7    0]]\n",
      "Traning classifier with n_estimators 200 and max_depth 4.\n",
      "[[7889  568  542   16]\n",
      " [ 136    1    2    1]\n",
      " [ 336    5  336    8]\n",
      " [  13    0    7    0]]\n",
      "Traning classifier with n_estimators 200 and max_depth 5.\n",
      "[[8042  479  472   22]\n",
      " [ 135    1    3    1]\n",
      " [ 338    8  331    8]\n",
      " [  12    0    8    0]]\n",
      "Traning classifier with n_estimators 200 and max_depth 6.\n",
      "[[8019  479  492   25]\n",
      " [ 135    2    2    1]\n",
      " [ 368    4  308    5]\n",
      " [  13    0    7    0]]\n",
      "Traning classifier with n_estimators 200 and max_depth 7.\n",
      "[[7817  471  393  334]\n",
      " [ 136    2    1    1]\n",
      " [ 367    4  303   11]\n",
      " [  13    0    7    0]]\n",
      "Traning classifier with n_estimators 200 and max_depth 8.\n",
      "[[8085  526  333   71]\n",
      " [ 134    3    2    1]\n",
      " [ 356   15  304   10]\n",
      " [  13    0    7    0]]\n",
      "Traning classifier with n_estimators 200 and max_depth 9.\n",
      "[[8068  492  321  134]\n",
      " [ 135    3    0    2]\n",
      " [ 372    8  296    9]\n",
      " [  14    0    6    0]]\n",
      "Traning classifier with n_estimators 200 and max_depth 10.\n",
      "[[8137  487  356   35]\n",
      " [ 137    1    1    1]\n",
      " [ 375    7  296    7]\n",
      " [  14    0    6    0]]\n"
     ]
    }
   ],
   "source": [
    "n_estimators=[200]\n",
    "max_depth=[1, 2, 3, 4, 5, 6, 7, 8, 9, 10]\n",
    "\n",
    "for n in n_estimators:\n",
    "    for m in max_depth:\n",
    "        print(\"Traning classifier with n_estimators {} and max_depth {}.\".format(n,m))\n",
    "        clf = GradientBoostingClassifier(random_state=random_state, n_estimators=n, max_depth=m)\n",
    "        # train the model and save for later\n",
    "        clf.fit(x_train, y_train)\n",
    "\n",
    "        # predict classes for samples in train and test\n",
    "        y_pred_train = clf.predict(x_train)\n",
    "        y_pred_val = clf.predict(x_val)\n",
    "\n",
    "        # compute the confusion matrix for train and test data\n",
    "        cm_train = confusion_matrix(y_train, y_pred_train)\n",
    "        f1_score_train = f1_metric(cm_train)\n",
    "        f1_scores_train.append(f1_score_train)\n",
    "        cm_val = confusion_matrix(y_val, y_pred_val)\n",
    "        print(cm_val)\n",
    "        f1_score_val = f1_metric(cm_val)\n",
    "        f1_scores_val.append(f1_score_val)"
   ]
  },
  {
   "cell_type": "code",
   "execution_count": 69,
   "metadata": {},
   "outputs": [
    {
     "data": {
      "text/plain": [
       "Text(0.5, 1.0, 'Train and validation data scores with n_estimators=200')"
      ]
     },
     "execution_count": 69,
     "metadata": {},
     "output_type": "execute_result"
    },
    {
     "data": {
      "image/png": "[encoded data removed]",
      "text/plain": [
       "<Figure size 432x288 with 1 Axes>"
      ]
     },
     "metadata": {
      "needs_background": "light"
     },
     "output_type": "display_data"
    }
   ],
   "source": [
    "plt.plot(max_depth, f1_scores_train[-10:], c='b', label='Train')\n",
    "plt.plot(max_depth, f1_scores_val[-10:], c='r', label='Validation')\n",
    "plt.legend()\n",
    "plt.xlabel(\"max_depth\")\n",
    "plt.ylabel(\"F1 score\")\n",
    "plt.title(\"Train and validation data scores with n_estimators=200\")"
   ]
  },
  {
   "cell_type": "code",
   "execution_count": 71,
   "metadata": {},
   "outputs": [
    {
     "data": {
      "text/plain": [
       "4"
      ]
     },
     "execution_count": 71,
     "metadata": {},
     "output_type": "execute_result"
    }
   ],
   "source": [
    "f1_scores_val[-10:].index(max(f1_scores_val[-10:]))"
   ]
  },
  {
   "cell_type": "markdown",
   "metadata": {},
   "source": [
    "### Interpretation\n",
    "Validation F1 score reaches a maxium at max_delpth=5, after which the model overfits - train data fits with higher F1 score, while val F1 score essentially stays the same. Use n_estimators=200 and max_depth=5\n",
    "### 5. test the best model on test data"
   ]
  },
  {
   "cell_type": "code",
   "execution_count": 62,
   "metadata": {},
   "outputs": [
    {
     "name": "stdout",
     "output_type": "stream",
     "text": [
      "[[59047   297    96     6]\n",
      " [  950  1368    12     0]\n",
      " [  532    20  4206    10]\n",
      " [   63     1    13   326]]\n",
      "0.8516166281755194\n",
      "[[20157    28  1438    41]\n",
      " [  253     8    42     8]\n",
      " [  562    11   908    75]\n",
      " [  201     0   105    74]]\n",
      "0.3971915747241724\n"
     ]
    }
   ],
   "source": [
    "# compute base f1 score without tuning for comparison\n",
    "clf_base = GradientBoostingClassifier(random_state=random_state)\n",
    "# train the model and save for later\n",
    "clf_base.fit(x_train, y_train)\n",
    "\n",
    "# predict classes for samples in train and test\n",
    "y_pred_train = clf_base.predict(x_train)\n",
    "y_pred_test = clf_base.predict(x_test)\n",
    "\n",
    "# compute the confusion matrix for train and test data\n",
    "cm_train_base = confusion_matrix(y_train, y_pred_train)\n",
    "print(cm_train_base)\n",
    "f1_score_train_base = f1_metric(cm_train_base)\n",
    "print(f1_score_train_base)\n",
    "cm_test_base = confusion_matrix(y_test, y_pred_test)\n",
    "print(cm_test_base)\n",
    "f1_score_test_base = f1_metric(cm_test_base)\n",
    "print(f1_score_test_base)"
   ]
  },
  {
   "cell_type": "code",
   "execution_count": 55,
   "metadata": {},
   "outputs": [
    {
     "name": "stdout",
     "output_type": "stream",
     "text": [
      "[[59080   280    81     5]\n",
      " [  795  1523    12     0]\n",
      " [  316     7  4444     1]\n",
      " [   24     0     6   373]]\n",
      "0.8908873744115786\n",
      "[[19049    34  2509    72]\n",
      " [  222    18    63     8]\n",
      " [  489    10   995    62]\n",
      " [  216     0   122    42]]\n",
      "0.3413134907796829\n"
     ]
    }
   ],
   "source": [
    "# compute f1 score with tuning\n",
    "clf = GradientBoostingClassifier(random_state=random_state, n_estimators=100, max_depth=4)\n",
    "# train the model and save for later\n",
    "clf.fit(x_train, y_train)\n",
    "\n",
    "# predict classes for samples in train and test\n",
    "y_pred_train = clf.predict(x_train)\n",
    "y_pred_test = clf.predict(x_test)\n",
    "\n",
    "# compute the confusion matrix for train and test data\n",
    "cm_train = confusion_matrix(y_train, y_pred_train)\n",
    "print(cm_train)\n",
    "f1_score_train = f1_metric(cm_train)\n",
    "print(f1_score_train)\n",
    "cm_test = confusion_matrix(y_test, y_pred_test)\n",
    "print(cm_test)\n",
    "f1_score_test = f1_metric(cm_test)\n",
    "print(f1_score_test)"
   ]
  },
  {
   "cell_type": "code",
   "execution_count": 72,
   "metadata": {},
   "outputs": [
    {
     "name": "stdout",
     "output_type": "stream",
     "text": [
      "[[59271   160    15     0]\n",
      " [  350  1976     4     0]\n",
      " [   58     2  4708     0]\n",
      " [    0     0     0   403]]\n",
      "0.9597129121809194\n",
      "[[18557    46  2778   283]\n",
      " [  218    21    65     7]\n",
      " [  400    17  1106    33]\n",
      " [  192     2   144    42]]\n",
      "0.34427919304962445\n"
     ]
    }
   ],
   "source": [
    "# compute base f1 score with tuning\n",
    "clf = GradientBoostingClassifier(random_state=random_state, n_estimators=200, max_depth=5)\n",
    "# train the model and save for later\n",
    "clf.fit(x_train, y_train)\n",
    "\n",
    "# predict classes for samples in train and test\n",
    "y_pred_train = clf.predict(x_train)\n",
    "y_pred_test = clf.predict(x_test)\n",
    "\n",
    "# compute the confusion matrix for train and test data\n",
    "cm_train = confusion_matrix(y_train, y_pred_train)\n",
    "print(cm_train)\n",
    "f1_score_train = f1_metric(cm_train)\n",
    "print(f1_score_train)\n",
    "cm_test = confusion_matrix(y_test, y_pred_test)\n",
    "print(cm_test)\n",
    "f1_score_test = f1_metric(cm_test)\n",
    "print(f1_score_test)"
   ]
  },
  {
   "cell_type": "markdown",
   "metadata": {},
   "source": [
    "### GBM classifier without tuning performs better than with tuning. Use out-of-the-bag model for final evaluation.\n",
    "### 6. final model evaluation based on established metrics"
   ]
  },
  {
   "cell_type": "code",
   "execution_count": 1,
   "metadata": {},
   "outputs": [],
   "source": [
    "def modelEvaluator(cm):\n",
    "    epsilon =  np.finfo(float).eps\n",
    "    # actual normal\n",
    "    Nn = cm[0,0]\n",
    "    Ns = cm[0,1]\n",
    "    Nv = cm[0,2]\n",
    "    Nf = cm[0,3]\n",
    "    # actual Supraventricular\n",
    "    Sn = cm[1,0]\n",
    "    Ss = cm[1,1]\n",
    "    Sv = cm[1,2]\n",
    "    Sf = cm[1,3]\n",
    "    # actual Ventricular\n",
    "    Vn = cm[2,0]\n",
    "    Vs = cm[2,1]\n",
    "    Vv = cm[2,2]\n",
    "    Vf = cm[2,3]\n",
    "    # actual Fusion\n",
    "    Fn = cm[3,0]\n",
    "    Fs = cm[3,1]\n",
    "    Fv = cm[3,2]\n",
    "    Ff = cm[3,3]\n",
    "    \n",
    "    sum_all = np.sum(cm)\n",
    "    # metrics for distinguishing ventricular ectopic beats\n",
    "    TNv = Nn + Ns + Nf + Sn + Ss + Sf + Fn + Fs + Ff # (True negative V)\n",
    "    FPv = Nv + Sv #(False positive V)\n",
    "    fprV = FPv / (TNv + FPv + epsilon) #(false positive rate V)\n",
    "    FNv = Vn + Vs +Vf # (False negative V)\n",
    "    TPv = Vv #(True positive V)\n",
    "    SeV = TPv / (TPv + FNv + epsilon) #(sensitivity or recall V)\n",
    "    PrV = TPv / (TPv + FPv + epsilon) #(positive predictivity or precision V)\n",
    "    AccV = (TPv + TNv) / (TPv + TNv + FPv + FNv + epsilon) #(Accuracy V)\n",
    "    \n",
    "    # metrics for distinguishing supraventricular ectopic beats\n",
    "    TNs = Nn + Nv + Nf + Vn + Vv + Vf + Fn + Fv + Ff #(True negative S)\n",
    "    FPs= Ns + Vs + Fs #(False positive S)\n",
    "    fprS = FPs / (TNs + FPs + epsilon) #(false positive rate S)\n",
    "    FNs = Sn + Sv +Sf #(False negative S)\n",
    "    TPs = Ss #(True positive S)\n",
    "    SeS = TPs / (TPs + FNs + epsilon) #( sensitivity or recall S)\n",
    "    PrS = TPs / (TPs + FPs + epsilon) #(positive predictivity or precision S)\n",
    "    AccS = (TPs + TNs) / (TPs + TNs + FPs + FNs + epsilon) #(Accuracy S)\n",
    "    \n",
    "    # metrics for distinguishing all beats\n",
    "    TN = Nn #(True negative)\n",
    "    TPf = Ff\n",
    "    FPN = Ns + Nv + Nf # false positive N class\n",
    "    Sp = TN/(TN + FPN + epsilon)\n",
    "    sum_f = Fn + Fs + Fv + Ff\n",
    "    SeF = TPf/(sum_f + epsilon)\n",
    "    Acc = (Nn + Ss + Vv + Ff)/sum_all\n",
    "    \n",
    "    return_array = [round(SeV, 3), round(PrV, 3), round(fprV, 3), round(AccV, 3), round(SeS, 3), round(PrS, 3),\\\n",
    "                    round(fprS, 3), round(AccS, 3), round(SeF, 3), round(Sp, 3), round(Acc, 3)]\n",
    "    return return_array"
   ]
  },
  {
   "cell_type": "code",
   "execution_count": 6,
   "metadata": {},
   "outputs": [
    {
     "data": {
      "text/plain": [
       "SeV     0.584\n",
       "PrV     0.380\n",
       "fprV    0.067\n",
       "AccV    0.911\n",
       "SeS     0.026\n",
       "PrS     0.170\n",
       "fprS    0.002\n",
       "AccS    0.986\n",
       "SeF     0.195\n",
       "Sp      0.930\n",
       "Acc     0.884\n",
       "dtype: float64"
      ]
     },
     "execution_count": 6,
     "metadata": {},
     "output_type": "execute_result"
    }
   ],
   "source": [
    "return_array = modelEvaluator(cm_test_base)\n",
    "return_array = pd.Series(return_array, index=['SeV', 'PrV', 'fprV', 'AccV', 'SeS', 'PrS', 'fprS', 'AccS', 'SeF', 'Sp', 'Acc'])\n",
    "return_array"
   ]
  },
  {
   "cell_type": "code",
   "execution_count": 66,
   "metadata": {},
   "outputs": [],
   "source": [
    "import pickle\n",
    "filename = '../../models/finalized_GBc_model.sav'\n",
    "pickle.dump(clf_base, open(filename, 'wb'))"
   ]
  },
  {
   "cell_type": "code",
   "execution_count": 67,
   "metadata": {},
   "outputs": [
    {
     "data": {
      "text/plain": [
       "GradientBoostingClassifier(ccp_alpha=0.0, criterion='friedman_mse', init=None,\n",
       "                           learning_rate=0.1, loss='deviance', max_depth=3,\n",
       "                           max_features=None, max_leaf_nodes=None,\n",
       "                           min_impurity_decrease=0.0, min_impurity_split=None,\n",
       "                           min_samples_leaf=1, min_samples_split=2,\n",
       "                           min_weight_fraction_leaf=0.0, n_estimators=100,\n",
       "                           n_iter_no_change=None, presort='deprecated',\n",
       "                           random_state=2020, subsample=1.0, tol=0.0001,\n",
       "                           validation_fraction=0.1, verbose=0,\n",
       "                           warm_start=False)"
      ]
     },
     "execution_count": 67,
     "metadata": {},
     "output_type": "execute_result"
    }
   ],
   "source": [
    "clf_base"
   ]
  },
  {
   "cell_type": "code",
   "execution_count": null,
   "metadata": {},
   "outputs": [],
   "source": [
    "ave_recall = (18+995+42)/2247\n",
    "ave_prec = (18+995+42)/(34+2509+72+18+63+8+10+995+62+122+42)\n",
    "print(ave_recall)\n",
    "print"
   ]
  }
 ],
 "metadata": {
  "kernelspec": {
   "display_name": "Python 3",
   "language": "python",
   "name": "python3"
  },
  "language_info": {
   "codemirror_mode": {
    "name": "ipython",
    "version": 3
   },
   "file_extension": ".py",
   "mimetype": "text/x-python",
   "name": "python",
   "nbconvert_exporter": "python",
   "pygments_lexer": "ipython3",
   "version": "3.7.6"
  }
 },
 "nbformat": 4,
 "nbformat_minor": 4
}
