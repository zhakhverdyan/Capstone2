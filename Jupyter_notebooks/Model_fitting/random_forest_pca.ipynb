{
 "cells": [
  {
   "cell_type": "markdown",
   "metadata": {},
   "source": [
    "## Purpose of the notebook\n",
    "1. reduce the number of features with PCA to 20\n",
    "2. split the data on train-val-test sets\n",
    "3. prepare the data and parameters for random forest classifier fitting\n",
    "4. tune parameters on validation data\n",
    "5. test the best model on the test data\n",
    "6. final model evaluation based on established metrics"
   ]
  },
  {
   "cell_type": "code",
   "execution_count": 1,
   "metadata": {},
   "outputs": [
    {
     "data": {
      "text/html": [
       "<div>\n",
       "<style scoped>\n",
       "    .dataframe tbody tr th:only-of-type {\n",
       "        vertical-align: middle;\n",
       "    }\n",
       "\n",
       "    .dataframe tbody tr th {\n",
       "        vertical-align: top;\n",
       "    }\n",
       "\n",
       "    .dataframe thead th {\n",
       "        text-align: right;\n",
       "    }\n",
       "</style>\n",
       "<table border=\"1\" class=\"dataframe\">\n",
       "  <thead>\n",
       "    <tr style=\"text-align: right;\">\n",
       "      <th></th>\n",
       "      <th>Unnamed: 0</th>\n",
       "      <th>0</th>\n",
       "      <th>1</th>\n",
       "      <th>2</th>\n",
       "      <th>3</th>\n",
       "      <th>4</th>\n",
       "      <th>5</th>\n",
       "      <th>6</th>\n",
       "      <th>7</th>\n",
       "      <th>8</th>\n",
       "      <th>...</th>\n",
       "      <th>354</th>\n",
       "      <th>355</th>\n",
       "      <th>356</th>\n",
       "      <th>357</th>\n",
       "      <th>358</th>\n",
       "      <th>359</th>\n",
       "      <th>Patient_number</th>\n",
       "      <th>Label</th>\n",
       "      <th>Label_class</th>\n",
       "      <th>Output_label</th>\n",
       "    </tr>\n",
       "  </thead>\n",
       "  <tbody>\n",
       "    <tr>\n",
       "      <th>0</th>\n",
       "      <td>0</td>\n",
       "      <td>0.000</td>\n",
       "      <td>0.000</td>\n",
       "      <td>0.000</td>\n",
       "      <td>0.000</td>\n",
       "      <td>0.000</td>\n",
       "      <td>0.000</td>\n",
       "      <td>0.000</td>\n",
       "      <td>0.000</td>\n",
       "      <td>0.000</td>\n",
       "      <td>...</td>\n",
       "      <td>-0.010</td>\n",
       "      <td>-0.010</td>\n",
       "      <td>0.000</td>\n",
       "      <td>0.005</td>\n",
       "      <td>0.005</td>\n",
       "      <td>0.015</td>\n",
       "      <td>100</td>\n",
       "      <td>N</td>\n",
       "      <td>N</td>\n",
       "      <td>0.0</td>\n",
       "    </tr>\n",
       "    <tr>\n",
       "      <th>1</th>\n",
       "      <td>1</td>\n",
       "      <td>0.005</td>\n",
       "      <td>-0.025</td>\n",
       "      <td>-0.015</td>\n",
       "      <td>0.000</td>\n",
       "      <td>-0.010</td>\n",
       "      <td>0.005</td>\n",
       "      <td>-0.005</td>\n",
       "      <td>-0.005</td>\n",
       "      <td>-0.010</td>\n",
       "      <td>...</td>\n",
       "      <td>0.000</td>\n",
       "      <td>0.000</td>\n",
       "      <td>-0.025</td>\n",
       "      <td>0.010</td>\n",
       "      <td>0.005</td>\n",
       "      <td>0.005</td>\n",
       "      <td>100</td>\n",
       "      <td>N</td>\n",
       "      <td>N</td>\n",
       "      <td>0.0</td>\n",
       "    </tr>\n",
       "    <tr>\n",
       "      <th>2</th>\n",
       "      <td>2</td>\n",
       "      <td>-0.005</td>\n",
       "      <td>-0.005</td>\n",
       "      <td>0.005</td>\n",
       "      <td>-0.025</td>\n",
       "      <td>-0.015</td>\n",
       "      <td>-0.010</td>\n",
       "      <td>0.005</td>\n",
       "      <td>0.010</td>\n",
       "      <td>0.000</td>\n",
       "      <td>...</td>\n",
       "      <td>-0.005</td>\n",
       "      <td>0.005</td>\n",
       "      <td>0.015</td>\n",
       "      <td>-0.010</td>\n",
       "      <td>-0.005</td>\n",
       "      <td>-0.015</td>\n",
       "      <td>100</td>\n",
       "      <td>N</td>\n",
       "      <td>N</td>\n",
       "      <td>0.0</td>\n",
       "    </tr>\n",
       "    <tr>\n",
       "      <th>3</th>\n",
       "      <td>3</td>\n",
       "      <td>-0.015</td>\n",
       "      <td>-0.015</td>\n",
       "      <td>-0.020</td>\n",
       "      <td>-0.005</td>\n",
       "      <td>-0.005</td>\n",
       "      <td>0.005</td>\n",
       "      <td>0.000</td>\n",
       "      <td>-0.010</td>\n",
       "      <td>-0.005</td>\n",
       "      <td>...</td>\n",
       "      <td>0.005</td>\n",
       "      <td>-0.005</td>\n",
       "      <td>-0.015</td>\n",
       "      <td>0.020</td>\n",
       "      <td>0.000</td>\n",
       "      <td>0.010</td>\n",
       "      <td>100</td>\n",
       "      <td>N</td>\n",
       "      <td>N</td>\n",
       "      <td>0.0</td>\n",
       "    </tr>\n",
       "    <tr>\n",
       "      <th>4</th>\n",
       "      <td>4</td>\n",
       "      <td>-0.005</td>\n",
       "      <td>0.005</td>\n",
       "      <td>0.005</td>\n",
       "      <td>-0.010</td>\n",
       "      <td>-0.020</td>\n",
       "      <td>-0.010</td>\n",
       "      <td>0.015</td>\n",
       "      <td>-0.005</td>\n",
       "      <td>-0.010</td>\n",
       "      <td>...</td>\n",
       "      <td>0.010</td>\n",
       "      <td>0.010</td>\n",
       "      <td>0.020</td>\n",
       "      <td>-0.010</td>\n",
       "      <td>-0.005</td>\n",
       "      <td>-0.005</td>\n",
       "      <td>100</td>\n",
       "      <td>N</td>\n",
       "      <td>N</td>\n",
       "      <td>0.0</td>\n",
       "    </tr>\n",
       "  </tbody>\n",
       "</table>\n",
       "<p>5 rows × 365 columns</p>\n",
       "</div>"
      ],
      "text/plain": [
       "   Unnamed: 0      0      1      2      3      4      5      6      7      8  \\\n",
       "0           0  0.000  0.000  0.000  0.000  0.000  0.000  0.000  0.000  0.000   \n",
       "1           1  0.005 -0.025 -0.015  0.000 -0.010  0.005 -0.005 -0.005 -0.010   \n",
       "2           2 -0.005 -0.005  0.005 -0.025 -0.015 -0.010  0.005  0.010  0.000   \n",
       "3           3 -0.015 -0.015 -0.020 -0.005 -0.005  0.005  0.000 -0.010 -0.005   \n",
       "4           4 -0.005  0.005  0.005 -0.010 -0.020 -0.010  0.015 -0.005 -0.010   \n",
       "\n",
       "   ...    354    355    356    357    358    359  Patient_number  Label  \\\n",
       "0  ... -0.010 -0.010  0.000  0.005  0.005  0.015             100      N   \n",
       "1  ...  0.000  0.000 -0.025  0.010  0.005  0.005             100      N   \n",
       "2  ... -0.005  0.005  0.015 -0.010 -0.005 -0.015             100      N   \n",
       "3  ...  0.005 -0.005 -0.015  0.020  0.000  0.010             100      N   \n",
       "4  ...  0.010  0.010  0.020 -0.010 -0.005 -0.005             100      N   \n",
       "\n",
       "   Label_class  Output_label  \n",
       "0            N           0.0  \n",
       "1            N           0.0  \n",
       "2            N           0.0  \n",
       "3            N           0.0  \n",
       "4            N           0.0  \n",
       "\n",
       "[5 rows x 365 columns]"
      ]
     },
     "execution_count": 1,
     "metadata": {},
     "output_type": "execute_result"
    }
   ],
   "source": [
    "import pandas as pd\n",
    "df = pd.read_csv('../../Data_processed/dif_abs_value_full_040720.csv')\n",
    "df.head()"
   ]
  },
  {
   "cell_type": "markdown",
   "metadata": {},
   "source": [
    "### 1. Perform feature reduction with PCA"
   ]
  },
  {
   "cell_type": "code",
   "execution_count": 2,
   "metadata": {},
   "outputs": [
    {
     "data": {
      "image/png": "[encoded data removed]",
      "text/plain": [
       "<Figure size 432x288 with 1 Axes>"
      ]
     },
     "metadata": {
      "needs_background": "light"
     },
     "output_type": "display_data"
    }
   ],
   "source": [
    "import matplotlib.pyplot as plt\n",
    "from sklearn.decomposition import PCA\n",
    "import numpy as np\n",
    "X = df.drop(columns = ['Unnamed: 0', 'Patient_number', 'Label', 'Label_class', 'Output_label'], axis=1)\n",
    "y = df['Output_label']\n",
    "target_names = ['N', 'S', 'V', 'F']\n",
    "pca = PCA(n_components=20)\n",
    "X_r = pca.fit(X).transform(X)\n",
    "plt.bar(list(range(1,21)), pca.explained_variance_ratio_)\n",
    "plt.xlabel('Principal components')\n",
    "plt.ylabel('Explained variance')\n",
    "explained_var = np.sum(pca.explained_variance_ratio_)\n",
    "title = \"Explained variance of the first 20 principal components: {}\".format(round(explained_var,3))\n",
    "plt.title(title)\n",
    "plt.show()"
   ]
  },
  {
   "cell_type": "markdown",
   "metadata": {},
   "source": [
    "### 2. split the data on train-val-test sets"
   ]
  },
  {
   "cell_type": "code",
   "execution_count": 3,
   "metadata": {},
   "outputs": [],
   "source": [
    "train = [101, 103, 105, 106, 109, 111, 112, 113, 115, 116, 117, 119, 121, 122, 123,\\\n",
    "         200, 201, 202, 205, 207, 208, 209, 212, 219, 221, 222, 230, 231, 232, 233]\n",
    "    \n",
    "val = [100, 124, 215, 223]\n",
    "\n",
    "test = [108, 114, 118, 203, 210, 213, 214, 220, 228, 234]"
   ]
  },
  {
   "cell_type": "code",
   "execution_count": 4,
   "metadata": {},
   "outputs": [
    {
     "data": {
      "text/html": [
       "<div>\n",
       "<style scoped>\n",
       "    .dataframe tbody tr th:only-of-type {\n",
       "        vertical-align: middle;\n",
       "    }\n",
       "\n",
       "    .dataframe tbody tr th {\n",
       "        vertical-align: top;\n",
       "    }\n",
       "\n",
       "    .dataframe thead th {\n",
       "        text-align: right;\n",
       "    }\n",
       "</style>\n",
       "<table border=\"1\" class=\"dataframe\">\n",
       "  <thead>\n",
       "    <tr style=\"text-align: right;\">\n",
       "      <th></th>\n",
       "      <th>0</th>\n",
       "      <th>1</th>\n",
       "      <th>2</th>\n",
       "      <th>3</th>\n",
       "      <th>4</th>\n",
       "      <th>5</th>\n",
       "      <th>6</th>\n",
       "      <th>7</th>\n",
       "      <th>8</th>\n",
       "      <th>9</th>\n",
       "      <th>10</th>\n",
       "      <th>11</th>\n",
       "      <th>12</th>\n",
       "      <th>13</th>\n",
       "      <th>14</th>\n",
       "      <th>15</th>\n",
       "      <th>16</th>\n",
       "      <th>17</th>\n",
       "      <th>18</th>\n",
       "      <th>19</th>\n",
       "    </tr>\n",
       "  </thead>\n",
       "  <tbody>\n",
       "    <tr>\n",
       "      <th>0</th>\n",
       "      <td>0.050786</td>\n",
       "      <td>0.391651</td>\n",
       "      <td>-0.178485</td>\n",
       "      <td>0.306758</td>\n",
       "      <td>-0.240656</td>\n",
       "      <td>0.143067</td>\n",
       "      <td>0.081154</td>\n",
       "      <td>0.022355</td>\n",
       "      <td>-0.011422</td>\n",
       "      <td>0.015360</td>\n",
       "      <td>-0.081240</td>\n",
       "      <td>0.089784</td>\n",
       "      <td>0.029540</td>\n",
       "      <td>0.028102</td>\n",
       "      <td>0.001816</td>\n",
       "      <td>-0.042819</td>\n",
       "      <td>-0.036326</td>\n",
       "      <td>-0.035999</td>\n",
       "      <td>0.013668</td>\n",
       "      <td>-0.048673</td>\n",
       "    </tr>\n",
       "    <tr>\n",
       "      <th>1</th>\n",
       "      <td>0.297323</td>\n",
       "      <td>0.138319</td>\n",
       "      <td>-0.148956</td>\n",
       "      <td>0.190143</td>\n",
       "      <td>-0.087654</td>\n",
       "      <td>0.079699</td>\n",
       "      <td>-0.038270</td>\n",
       "      <td>-0.043619</td>\n",
       "      <td>-0.030913</td>\n",
       "      <td>0.028172</td>\n",
       "      <td>0.024244</td>\n",
       "      <td>-0.037945</td>\n",
       "      <td>0.043763</td>\n",
       "      <td>0.137263</td>\n",
       "      <td>0.048397</td>\n",
       "      <td>0.021494</td>\n",
       "      <td>0.001753</td>\n",
       "      <td>0.033310</td>\n",
       "      <td>-0.027525</td>\n",
       "      <td>0.038762</td>\n",
       "    </tr>\n",
       "    <tr>\n",
       "      <th>2</th>\n",
       "      <td>0.235598</td>\n",
       "      <td>0.441948</td>\n",
       "      <td>-0.274324</td>\n",
       "      <td>0.107976</td>\n",
       "      <td>-0.310303</td>\n",
       "      <td>-0.190474</td>\n",
       "      <td>0.097972</td>\n",
       "      <td>0.196435</td>\n",
       "      <td>0.102749</td>\n",
       "      <td>-0.187133</td>\n",
       "      <td>0.087316</td>\n",
       "      <td>0.037690</td>\n",
       "      <td>-0.007922</td>\n",
       "      <td>-0.048522</td>\n",
       "      <td>-0.008264</td>\n",
       "      <td>0.046134</td>\n",
       "      <td>0.019812</td>\n",
       "      <td>0.044197</td>\n",
       "      <td>-0.038786</td>\n",
       "      <td>0.047703</td>\n",
       "    </tr>\n",
       "    <tr>\n",
       "      <th>3</th>\n",
       "      <td>0.227483</td>\n",
       "      <td>0.463418</td>\n",
       "      <td>-0.216962</td>\n",
       "      <td>0.109937</td>\n",
       "      <td>-0.246306</td>\n",
       "      <td>-0.145597</td>\n",
       "      <td>0.037086</td>\n",
       "      <td>0.182033</td>\n",
       "      <td>0.067625</td>\n",
       "      <td>-0.214047</td>\n",
       "      <td>0.087901</td>\n",
       "      <td>0.077118</td>\n",
       "      <td>-0.019643</td>\n",
       "      <td>0.073498</td>\n",
       "      <td>-0.026452</td>\n",
       "      <td>-0.038292</td>\n",
       "      <td>0.003291</td>\n",
       "      <td>0.083087</td>\n",
       "      <td>0.037907</td>\n",
       "      <td>0.011448</td>\n",
       "    </tr>\n",
       "    <tr>\n",
       "      <th>4</th>\n",
       "      <td>0.063840</td>\n",
       "      <td>0.491614</td>\n",
       "      <td>-0.152614</td>\n",
       "      <td>0.211571</td>\n",
       "      <td>-0.335745</td>\n",
       "      <td>0.065443</td>\n",
       "      <td>0.120603</td>\n",
       "      <td>0.094058</td>\n",
       "      <td>0.053513</td>\n",
       "      <td>0.009773</td>\n",
       "      <td>-0.062026</td>\n",
       "      <td>0.190344</td>\n",
       "      <td>-0.069697</td>\n",
       "      <td>-0.128592</td>\n",
       "      <td>-0.034538</td>\n",
       "      <td>0.029561</td>\n",
       "      <td>0.025915</td>\n",
       "      <td>-0.023144</td>\n",
       "      <td>0.027621</td>\n",
       "      <td>-0.093105</td>\n",
       "    </tr>\n",
       "  </tbody>\n",
       "</table>\n",
       "</div>"
      ],
      "text/plain": [
       "          0         1         2         3         4         5         6  \\\n",
       "0  0.050786  0.391651 -0.178485  0.306758 -0.240656  0.143067  0.081154   \n",
       "1  0.297323  0.138319 -0.148956  0.190143 -0.087654  0.079699 -0.038270   \n",
       "2  0.235598  0.441948 -0.274324  0.107976 -0.310303 -0.190474  0.097972   \n",
       "3  0.227483  0.463418 -0.216962  0.109937 -0.246306 -0.145597  0.037086   \n",
       "4  0.063840  0.491614 -0.152614  0.211571 -0.335745  0.065443  0.120603   \n",
       "\n",
       "          7         8         9        10        11        12        13  \\\n",
       "0  0.022355 -0.011422  0.015360 -0.081240  0.089784  0.029540  0.028102   \n",
       "1 -0.043619 -0.030913  0.028172  0.024244 -0.037945  0.043763  0.137263   \n",
       "2  0.196435  0.102749 -0.187133  0.087316  0.037690 -0.007922 -0.048522   \n",
       "3  0.182033  0.067625 -0.214047  0.087901  0.077118 -0.019643  0.073498   \n",
       "4  0.094058  0.053513  0.009773 -0.062026  0.190344 -0.069697 -0.128592   \n",
       "\n",
       "         14        15        16        17        18        19  \n",
       "0  0.001816 -0.042819 -0.036326 -0.035999  0.013668 -0.048673  \n",
       "1  0.048397  0.021494  0.001753  0.033310 -0.027525  0.038762  \n",
       "2 -0.008264  0.046134  0.019812  0.044197 -0.038786  0.047703  \n",
       "3 -0.026452 -0.038292  0.003291  0.083087  0.037907  0.011448  \n",
       "4 -0.034538  0.029561  0.025915 -0.023144  0.027621 -0.093105  "
      ]
     },
     "execution_count": 4,
     "metadata": {},
     "output_type": "execute_result"
    }
   ],
   "source": [
    "# construct a dataframe from the reduced feature array\n",
    "df_r = pd.DataFrame(X_r)\n",
    "df_r.head()"
   ]
  },
  {
   "cell_type": "code",
   "execution_count": 5,
   "metadata": {},
   "outputs": [
    {
     "data": {
      "text/plain": [
       "(100718, 22)"
      ]
     },
     "execution_count": 5,
     "metadata": {},
     "output_type": "execute_result"
    }
   ],
   "source": [
    "# add the patient number and output label to the dataframe\n",
    "df_r = pd.concat([df_r, df[['Patient_number', 'Output_label']]], axis=1)\n",
    "df_r.values.shape"
   ]
  },
  {
   "cell_type": "code",
   "execution_count": 6,
   "metadata": {},
   "outputs": [],
   "source": [
    "# split the data between train-val-test\n",
    "df_r_train = df_r.loc[df_r['Patient_number'].isin(train)]\n",
    "df_r_val = df_r.loc[df_r['Patient_number'].isin(val)]\n",
    "df_r_test = df_r.loc[df_r['Patient_number'].isin(test)]"
   ]
  },
  {
   "cell_type": "markdown",
   "metadata": {},
   "source": [
    "### 3. prepare the data and parameters for random forest classifier fitting"
   ]
  },
  {
   "cell_type": "code",
   "execution_count": 7,
   "metadata": {},
   "outputs": [
    {
     "name": "stdout",
     "output_type": "stream",
     "text": [
      "Training data:\n",
      "X (66947, 20)\n",
      "y (66947, 4)\n",
      "Validation data:\n",
      "X (9860, 20)\n",
      "y (9860, 4)\n",
      "Testing data:\n",
      "X (23911, 20)\n",
      "y (23911, 4)\n"
     ]
    }
   ],
   "source": [
    "# get all the samples as a numpy array\n",
    "x_train = df_r_train.drop(['Patient_number', 'Output_label'], axis=1).values\n",
    "x_val = df_r_val.drop(['Patient_number', 'Output_label'], axis=1).values\n",
    "x_test = df_r_test.drop(['Patient_number', 'Output_label'], axis=1).values\n",
    "\n",
    "# for multilabel classification the label vector needs to be one-hot encoded\n",
    "y_train = pd.get_dummies(df_r_train.Output_label).values\n",
    "y_val = pd.get_dummies(df_r_val.Output_label).values\n",
    "y_test = pd.get_dummies(df_r_test.Output_label).values\n",
    "\n",
    "# inspect resulting array sizes\n",
    "print(\"Training data:\")\n",
    "print(\"X\", x_train.shape)\n",
    "print(\"y\", y_train.shape)\n",
    "print(\"Validation data:\")\n",
    "print(\"X\", x_val.shape)\n",
    "print(\"y\", y_val.shape)\n",
    "print(\"Testing data:\")\n",
    "print(\"X\", x_test.shape)\n",
    "print(\"y\", y_test.shape)"
   ]
  },
  {
   "cell_type": "code",
   "execution_count": 68,
   "metadata": {},
   "outputs": [],
   "source": [
    "# function for score evaluation - f1 score (without class N) \n",
    "epsilon = np.finfo(float).eps\n",
    "def f1_metric(y_true, y_pred):\n",
    "    true_positives = np.sum(y_true[1:,1:] * y_pred[1:,1:])\n",
    "    possible_positives = np.sum(y_true[:,1:])\n",
    "    predicted_positives = np.sum(y_pred[:,1:])\n",
    "    precision = true_positives/(predicted_positives+epsilon)\n",
    "    recall = true_positives/(possible_positives+epsilon)\n",
    "    f1_val = 2*(precision*recall)/(precision+recall+epsilon)\n",
    "    return f1_val"
   ]
  },
  {
   "cell_type": "markdown",
   "metadata": {},
   "source": [
    "### 4. tune parameters on validation data"
   ]
  },
  {
   "cell_type": "code",
   "execution_count": 73,
   "metadata": {
    "scrolled": false
   },
   "outputs": [
    {
     "name": "stdout",
     "output_type": "stream",
     "text": [
      "Traning classifier with n_estimators 25 and max_depth 1.\n",
      "[[9012    0    0    3]\n",
      " [ 140    0    0    0]\n",
      " [ 634    0    0   51]\n",
      " [  20    0    0    0]]\n",
      "Traning classifier with n_estimators 25 and max_depth 3.\n",
      "[[5068 3879   15   53]\n",
      " [ 106   33    0    1]\n",
      " [ 496   42   92   55]\n",
      " [  17    1    2    0]]\n",
      "Traning classifier with n_estimators 25 and max_depth 9.\n",
      "[[6094 2726  192    3]\n",
      " [ 104   27    9    0]\n",
      " [ 405   33  238    9]\n",
      " [  11    1    8    0]]\n",
      "Traning classifier with n_estimators 25 and max_depth 27.\n",
      "[[9010    2    3    0]\n",
      " [ 140    0    0    0]\n",
      " [ 543    0  141    1]\n",
      " [  15    0    5    0]]\n",
      "Traning classifier with n_estimators 50 and max_depth 1.\n",
      "[[9011    0    0    4]\n",
      " [ 140    0    0    0]\n",
      " [ 635    0    0   50]\n",
      " [  20    0    0    0]]\n",
      "Traning classifier with n_estimators 50 and max_depth 3.\n",
      "[[4523 4443   15   34]\n",
      " [  92   47    0    1]\n",
      " [ 493   47   91   54]\n",
      " [  16    0    4    0]]\n",
      "Traning classifier with n_estimators 50 and max_depth 9.\n",
      "[[6359 2535  119    2]\n",
      " [ 113   22    5    0]\n",
      " [ 416   32  226   11]\n",
      " [  11    1    8    0]]\n",
      "Traning classifier with n_estimators 50 and max_depth 27.\n",
      "[[9012    1    2    0]\n",
      " [ 140    0    0    0]\n",
      " [ 551    0  133    1]\n",
      " [  15    0    5    0]]\n",
      "Traning classifier with n_estimators 100 and max_depth 1.\n",
      "[[9009    0    0    6]\n",
      " [ 140    0    0    0]\n",
      " [ 638    0    0   47]\n",
      " [  20    0    0    0]]\n",
      "Traning classifier with n_estimators 100 and max_depth 3.\n",
      "[[4869 4114   10   22]\n",
      " [  94   46    0    0]\n",
      " [ 500   48   79   58]\n",
      " [  19    0    1    0]]\n",
      "Traning classifier with n_estimators 100 and max_depth 9.\n",
      "[[6219 2678  115    3]\n",
      " [ 115   22    3    0]\n",
      " [ 410   25  239   11]\n",
      " [  11    1    8    0]]\n",
      "Traning classifier with n_estimators 100 and max_depth 27.\n",
      "[[9013    1    1    0]\n",
      " [ 140    0    0    0]\n",
      " [ 554    0  130    1]\n",
      " [  15    0    5    0]]\n",
      "Traning classifier with n_estimators 200 and max_depth 1.\n",
      "[[9011    0    0    4]\n",
      " [ 140    0    0    0]\n",
      " [ 635    0    0   50]\n",
      " [  20    0    0    0]]\n",
      "Traning classifier with n_estimators 200 and max_depth 3.\n",
      "[[4740 4250    7   18]\n",
      " [  94   46    0    0]\n",
      " [ 499   42   81   63]\n",
      " [  17    0    3    0]]\n",
      "Traning classifier with n_estimators 200 and max_depth 9.\n",
      "[[6343 2588   80    4]\n",
      " [ 117   21    2    0]\n",
      " [ 426   20  228   11]\n",
      " [  11    1    8    0]]\n",
      "Traning classifier with n_estimators 200 and max_depth 27.\n",
      "[[9013    1    1    0]\n",
      " [ 140    0    0    0]\n",
      " [ 557    0  127    1]\n",
      " [  15    0    5    0]]\n"
     ]
    }
   ],
   "source": [
    "random_state=2020\n",
    "class_weight='balanced_subsample'\n",
    "n_estimators=[25, 50, 100, 200]\n",
    "max_depth=[1, 3, 9, 27]\n",
    "f1_scores_train = []\n",
    "f1_scores_val = []\n",
    "\n",
    "for n in n_estimators:\n",
    "    for m in max_depth:\n",
    "        print(\"Traning classifier with n_estimators {} and max_depth {}.\".format(n,m))\n",
    "        clf = RandomForestClassifier(random_state=random_state, class_weight=class_weight,\\\n",
    "                                     n_estimators=n, max_depth=m)\n",
    "        # train the model\n",
    "        clf.fit(x_train, y_train)\n",
    "\n",
    "        # predict classes for samples in train and val\n",
    "        y_pred_train = clf.predict(x_train)\n",
    "        y_pred_val = clf.predict(x_val)\n",
    "\n",
    "        # compute the confusion matrix for validation data\n",
    "        cm = confusion_matrix(y_val.argmax(axis=1), y_pred_val.argmax(axis=1))\n",
    "        print(cm)\n",
    "        f1_score_train = f1_metric(y_train, y_pred_train)\n",
    "        f1_score_val = f1_metric(y_val, y_pred_val)\n",
    "        f1_scores_train.append(f1_score_train)\n",
    "        f1_scores_val.append(f1_score_val)"
   ]
  },
  {
   "cell_type": "code",
   "execution_count": 74,
   "metadata": {},
   "outputs": [
    {
     "data": {
      "text/plain": [
       "Text(0.5, 1.0, 'Train and validation data scores')"
      ]
     },
     "execution_count": 74,
     "metadata": {},
     "output_type": "execute_result"
    },
    {
     "data": {
      "image/png": "[encoded data removed]",
      "text/plain": [
       "<Figure size 432x288 with 1 Axes>"
      ]
     },
     "metadata": {
      "needs_background": "light"
     },
     "output_type": "display_data"
    }
   ],
   "source": [
    "plt.plot(f1_scores_train, c='b', label='Train')\n",
    "plt.plot(f1_scores_val, c='r', label='Validation')\n",
    "plt.legend()\n",
    "plt.xlabel(\"Models\")\n",
    "plt.ylabel(\"F1 score\")\n",
    "plt.title(\"Train and validation data scores\")"
   ]
  },
  {
   "cell_type": "code",
   "execution_count": 75,
   "metadata": {},
   "outputs": [
    {
     "data": {
      "text/plain": [
       "3"
      ]
     },
     "execution_count": 75,
     "metadata": {},
     "output_type": "execute_result"
    }
   ],
   "source": [
    "f1_scores_val.index(max(f1_scores_val))"
   ]
  },
  {
   "cell_type": "markdown",
   "metadata": {},
   "source": [
    "### Interpretation\n",
    "Index 3 corresponds to n_estimators 25 and max_depth 27. Max_depth seams to have much more of an effect on F1 score than n_estimators based on the zig-zag pattern; each \"zig\" has constant n_estimator and increasing max_depth, \"zag\" brings the F1 score back to baseline with max_depth 1. Based on this, higher max_depth may increase the validation F1 score."
   ]
  },
  {
   "cell_type": "code",
   "execution_count": 76,
   "metadata": {},
   "outputs": [
    {
     "name": "stdout",
     "output_type": "stream",
     "text": [
      "Traning classifier with n_estimators 25 and max_depth 50.\n",
      "[[9012    0    3    0]\n",
      " [ 140    0    0    0]\n",
      " [ 543    0  141    1]\n",
      " [  15    0    5    0]]\n",
      "Traning classifier with n_estimators 25 and max_depth 75.\n",
      "[[9012    0    3    0]\n",
      " [ 140    0    0    0]\n",
      " [ 548    0  136    1]\n",
      " [  15    0    5    0]]\n",
      "Traning classifier with n_estimators 25 and max_depth 100.\n",
      "[[9012    0    3    0]\n",
      " [ 140    0    0    0]\n",
      " [ 548    0  136    1]\n",
      " [  15    0    5    0]]\n"
     ]
    }
   ],
   "source": [
    "n_estimators=[25]\n",
    "max_depth=[50, 75, 100]\n",
    "\n",
    "for n in n_estimators:\n",
    "    for m in max_depth:\n",
    "        print(\"Traning classifier with n_estimators {} and max_depth {}.\".format(n,m))\n",
    "        clf = RandomForestClassifier(random_state=random_state, class_weight=class_weight,\\\n",
    "                                     n_estimators=n, max_depth=m)\n",
    "        # train the model\n",
    "        clf.fit(x_train, y_train)\n",
    "\n",
    "        # predict classes for samples in train and val\n",
    "        y_pred_train = clf.predict(x_train)\n",
    "        y_pred_val = clf.predict(x_val)\n",
    "\n",
    "        # compute the confusion matrix for validation data\n",
    "        cm = confusion_matrix(y_val.argmax(axis=1), y_pred_val.argmax(axis=1))\n",
    "        print(cm)\n",
    "        f1_score_train = f1_metric(y_train, y_pred_train)\n",
    "        f1_score_val = f1_metric(y_val, y_pred_val)\n",
    "        f1_scores_train.append(f1_score_train)\n",
    "        f1_scores_val.append(f1_score_val)"
   ]
  },
  {
   "cell_type": "code",
   "execution_count": 79,
   "metadata": {},
   "outputs": [
    {
     "data": {
      "text/plain": [
       "Text(0.5, 1.0, 'Train and validation data scores')"
      ]
     },
     "execution_count": 79,
     "metadata": {},
     "output_type": "execute_result"
    },
    {
     "data": {
      "image/png": "[encoded data removed]",
      "text/plain": [
       "<Figure size 432x288 with 1 Axes>"
      ]
     },
     "metadata": {
      "needs_background": "light"
     },
     "output_type": "display_data"
    }
   ],
   "source": [
    "# plot all the models with n_estimators 25\n",
    "plt.plot([1, 3, 9, 27]+[50, 75, 100], f1_scores_train[0:4]+f1_scores_train[16:19], c='b', label='Train')\n",
    "plt.plot([1, 3, 9, 27]+[50, 75, 100], f1_scores_val[0:4]+f1_scores_val[16:19], c='r', label='Validation')\n",
    "plt.legend()\n",
    "plt.xlabel(\"Max_depth, n_estimators=25\")\n",
    "plt.ylabel(\"F1 score\")\n",
    "plt.title(\"Train and validation data scores\")"
   ]
  },
  {
   "cell_type": "markdown",
   "metadata": {},
   "source": [
    "### Interpretation\n",
    "Both F1 scores keep increasing up until max_depth 27, after the model becomes overfit - further increase in train F1 score does not lead to further increase in validation F1 score. Hence, max_depth 27 is the optimum.\n",
    "### 5. test the best model on test data"
   ]
  },
  {
   "cell_type": "code",
   "execution_count": 71,
   "metadata": {},
   "outputs": [
    {
     "name": "stdout",
     "output_type": "stream",
     "text": [
      "[[20336     0   467   861]\n",
      " [  306     0     3     2]\n",
      " [  782     0   774     0]\n",
      " [  302     0    78     0]]\n",
      "1.0\n",
      "0.34927797833935015\n"
     ]
    }
   ],
   "source": [
    "# compute base f1 score for the test data without tuning\n",
    "clf = RandomForestClassifier(random_state=random_state, class_weight=class_weight)\n",
    "\n",
    "# train the model and save for later\n",
    "clf.fit(x_train, y_train)\n",
    "\n",
    "# predict classes for samples in train and test\n",
    "y_pred_train = clf.predict(x_train)\n",
    "y_pred_test = clf.predict(x_test)\n",
    "\n",
    "# compute the confusion matrix for test data\n",
    "cm = confusion_matrix(y_test.argmax(axis=1), y_pred_test.argmax(axis=1))\n",
    "print(cm)\n",
    "f1_score_train = f1_metric(y_train, y_pred_train)\n",
    "print(f1_score_train)\n",
    "f1_score_test = f1_metric(y_test, y_pred_test)\n",
    "print(f1_score_test)"
   ]
  },
  {
   "cell_type": "code",
   "execution_count": 81,
   "metadata": {},
   "outputs": [
    {
     "name": "stdout",
     "output_type": "stream",
     "text": [
      "[[20114    19   538   993]\n",
      " [  304     1     3     3]\n",
      " [  730     0   826     0]\n",
      " [  297     0    83     0]]\n",
      "0.9617957293542577\n",
      "0.35094419690218537\n"
     ]
    }
   ],
   "source": [
    "# compute tuned f1 score for the test data\n",
    "clf = RandomForestClassifier(random_state=random_state, class_weight=class_weight, max_depth=27, n_estimators=25)\n",
    "\n",
    "# train the model and save for later\n",
    "clf.fit(x_train, y_train)\n",
    "\n",
    "# predict classes for samples in train and test\n",
    "y_pred_train = clf.predict(x_train)\n",
    "y_pred_test = clf.predict(x_test)\n",
    "\n",
    "# compute the confusion matrix for test data\n",
    "cm = confusion_matrix(y_test.argmax(axis=1), y_pred_test.argmax(axis=1))\n",
    "print(cm)\n",
    "f1_score_train = f1_metric(y_train, y_pred_train)\n",
    "print(f1_score_train)\n",
    "f1_score_test = f1_metric(y_test, y_pred_test)\n",
    "print(f1_score_test)"
   ]
  },
  {
   "cell_type": "code",
   "execution_count": 85,
   "metadata": {
    "scrolled": true
   },
   "outputs": [
    {
     "name": "stdout",
     "output_type": "stream",
     "text": [
      "% improvement in f1 score after tuning 0.48\n"
     ]
    }
   ],
   "source": [
    "print(\"% improvement in f1 score after tuning\", round((0.35094419690218537-0.34927797833935015)/0.34927797833935015*100, 2))"
   ]
  },
  {
   "cell_type": "markdown",
   "metadata": {},
   "source": [
    "### 6. final model evaluation based on established metrics"
   ]
  },
  {
   "cell_type": "code",
   "execution_count": 8,
   "metadata": {},
   "outputs": [],
   "source": [
    "import numpy as np\n",
    "def modelEvaluator(cm):\n",
    "    epsilon =  np.finfo(float).eps\n",
    "    # actual normal\n",
    "    Nn = cm[0,0]\n",
    "    Ns = cm[0,1]\n",
    "    Nv = cm[0,2]\n",
    "    Nf = cm[0,3]\n",
    "    # actual Supraventricular\n",
    "    Sn = cm[1,0]\n",
    "    Ss = cm[1,1]\n",
    "    Sv = cm[1,2]\n",
    "    Sf = cm[1,3]\n",
    "    # actual Ventricular\n",
    "    Vn = cm[2,0]\n",
    "    Vs = cm[2,1]\n",
    "    Vv = cm[2,2]\n",
    "    Vf = cm[2,3]\n",
    "    # actual Fusion\n",
    "    Fn = cm[3,0]\n",
    "    Fs = cm[3,1]\n",
    "    Fv = cm[3,2]\n",
    "    Ff = cm[3,3]\n",
    "    \n",
    "    sum_all = np.sum(cm)\n",
    "    # metrics for distinguishing ventricular ectopic beats\n",
    "    TNv = Nn + Ns + Nf + Sn + Ss + Sf + Fn + Fs + Ff # (True negative V)\n",
    "    FPv = Nv + Sv #(False positive V)\n",
    "    fprV = FPv / (TNv + FPv + epsilon) #(false positive rate V)\n",
    "    FNv = Vn + Vs +Vf # (False negative V)\n",
    "    TPv = Vv #(True positive V)\n",
    "    SeV = TPv / (TPv + FNv + epsilon) #(sensitivity or recall V)\n",
    "    PrV = TPv / (TPv + FPv + epsilon) #(positive predictivity or precision V)\n",
    "    AccV = (TPv + TNv) / (TPv + TNv + FPv + FNv + epsilon) #(Accuracy V)\n",
    "    \n",
    "    # metrics for distinguishing supraventricular ectopic beats\n",
    "    TNs = Nn + Nv + Nf + Vn + Vv + Vf + Fn + Fv + Ff #(True negative S)\n",
    "    FPs= Ns + Vs + Fs #(False positive S)\n",
    "    fprS = FPs / (TNs + FPs + epsilon) #(false positive rate S)\n",
    "    FNs = Sn + Sv +Sf #(False negative S)\n",
    "    TPs = Ss #(True positive S)\n",
    "    SeS = TPs / (TPs + FNs + epsilon) #( sensitivity or recall S)\n",
    "    PrS = TPs / (TPs + FPs + epsilon) #(positive predictivity or precision S)\n",
    "    AccS = (TPs + TNs) / (TPs + TNs + FPs + FNs + epsilon) #(Accuracy S)\n",
    "    \n",
    "    # metrics for distinguishing all beats\n",
    "    TN = Nn #(True negative)\n",
    "    TPf = Ff\n",
    "    FPN = Ns + Nv + Nf # false positive N class\n",
    "    Sp = TN/(TN + FPN + epsilon)\n",
    "    sum_f = Fn + Fs + Fv + Ff\n",
    "    SeF = TPf/(sum_f + epsilon)\n",
    "    Acc = (Nn + Ss + Vv + Ff)/sum_all\n",
    "    \n",
    "    return_array = [round(SeV, 3), round(PrV, 3), round(fprV, 3), round(AccV, 3), round(SeS, 3), round(PrS, 3),\\\n",
    "                    round(fprS, 3), round(AccS, 3), round(SeF, 3), round(Sp, 3), round(Acc, 3)]\n",
    "    return return_array"
   ]
  },
  {
   "cell_type": "code",
   "execution_count": 10,
   "metadata": {},
   "outputs": [
    {
     "data": {
      "text/plain": [
       "SeV     0.531\n",
       "PrV     0.604\n",
       "fprV    0.024\n",
       "AccV    0.947\n",
       "SeS     0.003\n",
       "PrS     0.050\n",
       "fprS    0.001\n",
       "AccS    0.986\n",
       "SeF     0.000\n",
       "Sp      0.928\n",
       "Acc     0.876\n",
       "dtype: float64"
      ]
     },
     "execution_count": 10,
     "metadata": {},
     "output_type": "execute_result"
    }
   ],
   "source": [
    "return_array = modelEvaluator(cm)\n",
    "return_array = pd.Series(return_array, index=['SeV', 'PrV', 'fprV', 'AccV', 'SeS', 'PrS', 'fprS', 'AccS', 'SeF', 'Sp', 'Acc'])\n",
    "return_array"
   ]
  },
  {
   "cell_type": "code",
   "execution_count": 94,
   "metadata": {},
   "outputs": [],
   "source": [
    "import pickle\n",
    "filename = '../../models/finalized_RF_model.sav'\n",
    "pickle.dump(clf, open(filename, 'wb'))"
   ]
  },
  {
   "cell_type": "code",
   "execution_count": 95,
   "metadata": {},
   "outputs": [
    {
     "data": {
      "text/plain": [
       "RandomForestClassifier(bootstrap=True, ccp_alpha=0.0,\n",
       "                       class_weight='balanced_subsample', criterion='gini',\n",
       "                       max_depth=27, max_features='auto', max_leaf_nodes=None,\n",
       "                       max_samples=None, min_impurity_decrease=0.0,\n",
       "                       min_impurity_split=None, min_samples_leaf=1,\n",
       "                       min_samples_split=2, min_weight_fraction_leaf=0.0,\n",
       "                       n_estimators=25, n_jobs=None, oob_score=False,\n",
       "                       random_state=2020, verbose=0, warm_start=False)"
      ]
     },
     "execution_count": 95,
     "metadata": {},
     "output_type": "execute_result"
    }
   ],
   "source": [
    "clf"
   ]
  },
  {
   "cell_type": "code",
   "execution_count": null,
   "metadata": {},
   "outputs": [],
   "source": []
  }
 ],
 "metadata": {
  "kernelspec": {
   "display_name": "Python 3",
   "language": "python",
   "name": "python3"
  },
  "language_info": {
   "codemirror_mode": {
    "name": "ipython",
    "version": 3
   },
   "file_extension": ".py",
   "mimetype": "text/x-python",
   "name": "python",
   "nbconvert_exporter": "python",
   "pygments_lexer": "ipython3",
   "version": "3.7.6"
  }
 },
 "nbformat": 4,
 "nbformat_minor": 4
}
